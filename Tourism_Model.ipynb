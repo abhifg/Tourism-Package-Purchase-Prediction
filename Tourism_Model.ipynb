{
  "nbformat": 4,
  "nbformat_minor": 0,
  "metadata": {
    "colab": {
      "name": "Tourism_Model.ipynb",
      "provenance": [],
      "collapsed_sections": []
    },
    "kernelspec": {
      "name": "python3",
      "display_name": "Python 3"
    },
    "language_info": {
      "name": "python"
    }
  },
  "cells": [
    {
      "cell_type": "markdown",
      "metadata": {
        "id": "OnxNzA4Y2_8b"
      },
      "source": [
        "# Model Fitting\n",
        "\n",
        "Here we will try to fit the best model based on the the preprocessed data."
      ]
    },
    {
      "cell_type": "markdown",
      "metadata": {
        "id": "UuEl4fTP3D52"
      },
      "source": [
        "# What's in this notebook?\n",
        "\n",
        "First we try the following ML algorithms on the one-hot encoded data.\n",
        "\n",
        "0. Over Sampling - SMOTE\n",
        "1. Logistic Regression\n",
        "2. Random Forest Classifier\n",
        "3. XGboost Classifier\n",
        "4. SVM Classifier\n",
        "5. KNN Classifier\n",
        "\n",
        "Next we try the following ML algorithms on the non-encoded data.\n",
        "\n",
        "0. Over Sampling - SMOTE\n",
        "1. CatBoost Classifier\n",
        "\n",
        "\n",
        "#### NOTE:\n",
        "Here we will use Recall instead of Accuracy because we're more interested in correctly classifying the records where target variable is 1.\n",
        "\n",
        "Recall: Proportion of actual Positives that are is correctly classified.\n"
      ]
    },
    {
      "cell_type": "code",
      "metadata": {
        "id": "BJmRR2dySCX8"
      },
      "source": [
        "# Importing libraries\n",
        "import numpy as np\n",
        "import pandas as pd\n",
        "import matplotlib.pyplot as plt\n",
        "import seaborn as sns\n",
        "%matplotlib inline"
      ],
      "execution_count": null,
      "outputs": []
    },
    {
      "cell_type": "code",
      "metadata": {
        "colab": {
          "base_uri": "https://localhost:8080/",
          "height": 240
        },
        "id": "NO83BP_-T2oo",
        "outputId": "d3115158-b622-4aff-bd95-1b2a2105bba3"
      },
      "source": [
        "# loading the one-hot encoded preprocessed data\n",
        "df = pd.read_csv('https://raw.githubusercontent.com/Suvam-Bit/Datasets/main/Tourism%20Package%20Purchase%20Prediction/preprocessed.csv')\n",
        "df.head()"
      ],
      "execution_count": null,
      "outputs": [
        {
          "output_type": "execute_result",
          "data": {
            "text/html": [
              "<div>\n",
              "<style scoped>\n",
              "    .dataframe tbody tr th:only-of-type {\n",
              "        vertical-align: middle;\n",
              "    }\n",
              "\n",
              "    .dataframe tbody tr th {\n",
              "        vertical-align: top;\n",
              "    }\n",
              "\n",
              "    .dataframe thead th {\n",
              "        text-align: right;\n",
              "    }\n",
              "</style>\n",
              "<table border=\"1\" class=\"dataframe\">\n",
              "  <thead>\n",
              "    <tr style=\"text-align: right;\">\n",
              "      <th></th>\n",
              "      <th>ProdTaken</th>\n",
              "      <th>Age</th>\n",
              "      <th>CityTier</th>\n",
              "      <th>DurationOfPitch</th>\n",
              "      <th>NumberOfPersonVisited</th>\n",
              "      <th>NumberOfFollowups</th>\n",
              "      <th>PreferredPropertyStar</th>\n",
              "      <th>NumberOfTrips</th>\n",
              "      <th>Passport</th>\n",
              "      <th>PitchSatisfactionScore</th>\n",
              "      <th>OwnCar</th>\n",
              "      <th>NumberOfChildrenVisited</th>\n",
              "      <th>MonthlyIncome</th>\n",
              "      <th>Self Enquiry</th>\n",
              "      <th>Large Business</th>\n",
              "      <th>Salaried</th>\n",
              "      <th>Small Business</th>\n",
              "      <th>Male</th>\n",
              "      <th>Deluxe</th>\n",
              "      <th>King</th>\n",
              "      <th>Standard</th>\n",
              "      <th>Super Deluxe</th>\n",
              "      <th>Married</th>\n",
              "      <th>Single</th>\n",
              "      <th>Executive</th>\n",
              "      <th>Manager</th>\n",
              "      <th>Senior Manager</th>\n",
              "      <th>VP</th>\n",
              "    </tr>\n",
              "  </thead>\n",
              "  <tbody>\n",
              "    <tr>\n",
              "      <th>0</th>\n",
              "      <td>1</td>\n",
              "      <td>41.000000</td>\n",
              "      <td>3</td>\n",
              "      <td>6.0</td>\n",
              "      <td>3</td>\n",
              "      <td>3.0</td>\n",
              "      <td>3.0</td>\n",
              "      <td>1.0</td>\n",
              "      <td>1</td>\n",
              "      <td>2</td>\n",
              "      <td>1</td>\n",
              "      <td>0.0</td>\n",
              "      <td>20993.0</td>\n",
              "      <td>1</td>\n",
              "      <td>0</td>\n",
              "      <td>1</td>\n",
              "      <td>0</td>\n",
              "      <td>0</td>\n",
              "      <td>1</td>\n",
              "      <td>0</td>\n",
              "      <td>0</td>\n",
              "      <td>0</td>\n",
              "      <td>0</td>\n",
              "      <td>1</td>\n",
              "      <td>0</td>\n",
              "      <td>1</td>\n",
              "      <td>0</td>\n",
              "      <td>0</td>\n",
              "    </tr>\n",
              "    <tr>\n",
              "      <th>1</th>\n",
              "      <td>0</td>\n",
              "      <td>49.000000</td>\n",
              "      <td>1</td>\n",
              "      <td>14.0</td>\n",
              "      <td>3</td>\n",
              "      <td>4.0</td>\n",
              "      <td>4.0</td>\n",
              "      <td>2.0</td>\n",
              "      <td>0</td>\n",
              "      <td>3</td>\n",
              "      <td>1</td>\n",
              "      <td>2.0</td>\n",
              "      <td>20130.0</td>\n",
              "      <td>0</td>\n",
              "      <td>0</td>\n",
              "      <td>1</td>\n",
              "      <td>0</td>\n",
              "      <td>1</td>\n",
              "      <td>1</td>\n",
              "      <td>0</td>\n",
              "      <td>0</td>\n",
              "      <td>0</td>\n",
              "      <td>0</td>\n",
              "      <td>0</td>\n",
              "      <td>0</td>\n",
              "      <td>1</td>\n",
              "      <td>0</td>\n",
              "      <td>0</td>\n",
              "    </tr>\n",
              "    <tr>\n",
              "      <th>2</th>\n",
              "      <td>1</td>\n",
              "      <td>37.000000</td>\n",
              "      <td>1</td>\n",
              "      <td>8.0</td>\n",
              "      <td>3</td>\n",
              "      <td>4.0</td>\n",
              "      <td>3.0</td>\n",
              "      <td>7.0</td>\n",
              "      <td>1</td>\n",
              "      <td>3</td>\n",
              "      <td>0</td>\n",
              "      <td>0.0</td>\n",
              "      <td>17090.0</td>\n",
              "      <td>1</td>\n",
              "      <td>0</td>\n",
              "      <td>0</td>\n",
              "      <td>0</td>\n",
              "      <td>1</td>\n",
              "      <td>0</td>\n",
              "      <td>0</td>\n",
              "      <td>0</td>\n",
              "      <td>0</td>\n",
              "      <td>0</td>\n",
              "      <td>1</td>\n",
              "      <td>1</td>\n",
              "      <td>0</td>\n",
              "      <td>0</td>\n",
              "      <td>0</td>\n",
              "    </tr>\n",
              "    <tr>\n",
              "      <th>3</th>\n",
              "      <td>0</td>\n",
              "      <td>33.000000</td>\n",
              "      <td>1</td>\n",
              "      <td>9.0</td>\n",
              "      <td>2</td>\n",
              "      <td>3.0</td>\n",
              "      <td>3.0</td>\n",
              "      <td>2.0</td>\n",
              "      <td>1</td>\n",
              "      <td>5</td>\n",
              "      <td>1</td>\n",
              "      <td>1.0</td>\n",
              "      <td>17909.0</td>\n",
              "      <td>0</td>\n",
              "      <td>0</td>\n",
              "      <td>1</td>\n",
              "      <td>0</td>\n",
              "      <td>0</td>\n",
              "      <td>0</td>\n",
              "      <td>0</td>\n",
              "      <td>0</td>\n",
              "      <td>0</td>\n",
              "      <td>0</td>\n",
              "      <td>0</td>\n",
              "      <td>1</td>\n",
              "      <td>0</td>\n",
              "      <td>0</td>\n",
              "      <td>0</td>\n",
              "    </tr>\n",
              "    <tr>\n",
              "      <th>4</th>\n",
              "      <td>0</td>\n",
              "      <td>33.054181</td>\n",
              "      <td>1</td>\n",
              "      <td>8.0</td>\n",
              "      <td>2</td>\n",
              "      <td>3.0</td>\n",
              "      <td>4.0</td>\n",
              "      <td>1.0</td>\n",
              "      <td>0</td>\n",
              "      <td>5</td>\n",
              "      <td>1</td>\n",
              "      <td>0.0</td>\n",
              "      <td>18468.0</td>\n",
              "      <td>1</td>\n",
              "      <td>0</td>\n",
              "      <td>0</td>\n",
              "      <td>1</td>\n",
              "      <td>1</td>\n",
              "      <td>0</td>\n",
              "      <td>0</td>\n",
              "      <td>0</td>\n",
              "      <td>0</td>\n",
              "      <td>0</td>\n",
              "      <td>0</td>\n",
              "      <td>1</td>\n",
              "      <td>0</td>\n",
              "      <td>0</td>\n",
              "      <td>0</td>\n",
              "    </tr>\n",
              "  </tbody>\n",
              "</table>\n",
              "</div>"
            ],
            "text/plain": [
              "   ProdTaken        Age  CityTier  ...  Manager  Senior Manager  VP\n",
              "0          1  41.000000         3  ...        1               0   0\n",
              "1          0  49.000000         1  ...        1               0   0\n",
              "2          1  37.000000         1  ...        0               0   0\n",
              "3          0  33.000000         1  ...        0               0   0\n",
              "4          0  33.054181         1  ...        0               0   0\n",
              "\n",
              "[5 rows x 28 columns]"
            ]
          },
          "metadata": {},
          "execution_count": 17
        }
      ]
    },
    {
      "cell_type": "code",
      "metadata": {
        "colab": {
          "base_uri": "https://localhost:8080/"
        },
        "id": "HWqUjzD-T87f",
        "outputId": "379e709d-6db8-4dcf-a198-5b7daf0ef859"
      },
      "source": [
        "# dimension of the data\n",
        "df.shape"
      ],
      "execution_count": null,
      "outputs": [
        {
          "output_type": "execute_result",
          "data": {
            "text/plain": [
              "(4888, 28)"
            ]
          },
          "metadata": {},
          "execution_count": 18
        }
      ]
    },
    {
      "cell_type": "code",
      "metadata": {
        "id": "m0bPNNjdU6Gj"
      },
      "source": [
        "# splitting into feature data and target data\n",
        "df_X = df.drop('ProdTaken', axis = 1)\n",
        "df_y = df['ProdTaken']"
      ],
      "execution_count": null,
      "outputs": []
    },
    {
      "cell_type": "markdown",
      "metadata": {
        "id": "krW3v25W4foa"
      },
      "source": [
        "Now let's see how many records are there for each category in the target variable."
      ]
    },
    {
      "cell_type": "code",
      "metadata": {
        "colab": {
          "base_uri": "https://localhost:8080/"
        },
        "id": "vGyckeSjv53t",
        "outputId": "390152ae-53b7-4bad-e24d-5f27e6250382"
      },
      "source": [
        "print(df_y[df_y==1].shape, df_y[df_y==0].shape)"
      ],
      "execution_count": null,
      "outputs": [
        {
          "output_type": "stream",
          "name": "stdout",
          "text": [
            "(920,) (3968,)\n"
          ]
        }
      ]
    },
    {
      "cell_type": "code",
      "metadata": {
        "colab": {
          "base_uri": "https://localhost:8080/"
        },
        "id": "XSPAcvOLwOo_",
        "outputId": "2ac05f36-dc88-461a-f7d5-96d059db74bf"
      },
      "source": [
        "print(df_X[df_y==1].shape, df_X[df_y==0].shape)"
      ],
      "execution_count": null,
      "outputs": [
        {
          "output_type": "stream",
          "name": "stdout",
          "text": [
            "(920, 27) (3968, 27)\n"
          ]
        }
      ]
    },
    {
      "cell_type": "markdown",
      "metadata": {
        "id": "sW9WTDK_47eT"
      },
      "source": [
        "Number of records where target variable is 1 = 920\n",
        "\n",
        "Number of records where target variable is 0 = 3968\n",
        "\n",
        "\n",
        "So this is a IMBALANCED DATA."
      ]
    },
    {
      "cell_type": "code",
      "metadata": {
        "colab": {
          "base_uri": "https://localhost:8080/",
          "height": 240
        },
        "id": "HouvEy5GQsa3",
        "outputId": "b644b715-6c79-4931-a4bc-96642fc9dd1c"
      },
      "source": [
        "df_X.head()"
      ],
      "execution_count": null,
      "outputs": [
        {
          "output_type": "execute_result",
          "data": {
            "text/html": [
              "<div>\n",
              "<style scoped>\n",
              "    .dataframe tbody tr th:only-of-type {\n",
              "        vertical-align: middle;\n",
              "    }\n",
              "\n",
              "    .dataframe tbody tr th {\n",
              "        vertical-align: top;\n",
              "    }\n",
              "\n",
              "    .dataframe thead th {\n",
              "        text-align: right;\n",
              "    }\n",
              "</style>\n",
              "<table border=\"1\" class=\"dataframe\">\n",
              "  <thead>\n",
              "    <tr style=\"text-align: right;\">\n",
              "      <th></th>\n",
              "      <th>Age</th>\n",
              "      <th>CityTier</th>\n",
              "      <th>DurationOfPitch</th>\n",
              "      <th>NumberOfPersonVisited</th>\n",
              "      <th>NumberOfFollowups</th>\n",
              "      <th>PreferredPropertyStar</th>\n",
              "      <th>NumberOfTrips</th>\n",
              "      <th>Passport</th>\n",
              "      <th>PitchSatisfactionScore</th>\n",
              "      <th>OwnCar</th>\n",
              "      <th>NumberOfChildrenVisited</th>\n",
              "      <th>MonthlyIncome</th>\n",
              "      <th>Self Enquiry</th>\n",
              "      <th>Large Business</th>\n",
              "      <th>Salaried</th>\n",
              "      <th>Small Business</th>\n",
              "      <th>Male</th>\n",
              "      <th>Deluxe</th>\n",
              "      <th>King</th>\n",
              "      <th>Standard</th>\n",
              "      <th>Super Deluxe</th>\n",
              "      <th>Married</th>\n",
              "      <th>Single</th>\n",
              "      <th>Executive</th>\n",
              "      <th>Manager</th>\n",
              "      <th>Senior Manager</th>\n",
              "      <th>VP</th>\n",
              "    </tr>\n",
              "  </thead>\n",
              "  <tbody>\n",
              "    <tr>\n",
              "      <th>0</th>\n",
              "      <td>41.000000</td>\n",
              "      <td>3</td>\n",
              "      <td>6.0</td>\n",
              "      <td>3</td>\n",
              "      <td>3.0</td>\n",
              "      <td>3.0</td>\n",
              "      <td>1.0</td>\n",
              "      <td>1</td>\n",
              "      <td>2</td>\n",
              "      <td>1</td>\n",
              "      <td>0.0</td>\n",
              "      <td>20993.0</td>\n",
              "      <td>1</td>\n",
              "      <td>0</td>\n",
              "      <td>1</td>\n",
              "      <td>0</td>\n",
              "      <td>0</td>\n",
              "      <td>1</td>\n",
              "      <td>0</td>\n",
              "      <td>0</td>\n",
              "      <td>0</td>\n",
              "      <td>0</td>\n",
              "      <td>1</td>\n",
              "      <td>0</td>\n",
              "      <td>1</td>\n",
              "      <td>0</td>\n",
              "      <td>0</td>\n",
              "    </tr>\n",
              "    <tr>\n",
              "      <th>1</th>\n",
              "      <td>49.000000</td>\n",
              "      <td>1</td>\n",
              "      <td>14.0</td>\n",
              "      <td>3</td>\n",
              "      <td>4.0</td>\n",
              "      <td>4.0</td>\n",
              "      <td>2.0</td>\n",
              "      <td>0</td>\n",
              "      <td>3</td>\n",
              "      <td>1</td>\n",
              "      <td>2.0</td>\n",
              "      <td>20130.0</td>\n",
              "      <td>0</td>\n",
              "      <td>0</td>\n",
              "      <td>1</td>\n",
              "      <td>0</td>\n",
              "      <td>1</td>\n",
              "      <td>1</td>\n",
              "      <td>0</td>\n",
              "      <td>0</td>\n",
              "      <td>0</td>\n",
              "      <td>0</td>\n",
              "      <td>0</td>\n",
              "      <td>0</td>\n",
              "      <td>1</td>\n",
              "      <td>0</td>\n",
              "      <td>0</td>\n",
              "    </tr>\n",
              "    <tr>\n",
              "      <th>2</th>\n",
              "      <td>37.000000</td>\n",
              "      <td>1</td>\n",
              "      <td>8.0</td>\n",
              "      <td>3</td>\n",
              "      <td>4.0</td>\n",
              "      <td>3.0</td>\n",
              "      <td>7.0</td>\n",
              "      <td>1</td>\n",
              "      <td>3</td>\n",
              "      <td>0</td>\n",
              "      <td>0.0</td>\n",
              "      <td>17090.0</td>\n",
              "      <td>1</td>\n",
              "      <td>0</td>\n",
              "      <td>0</td>\n",
              "      <td>0</td>\n",
              "      <td>1</td>\n",
              "      <td>0</td>\n",
              "      <td>0</td>\n",
              "      <td>0</td>\n",
              "      <td>0</td>\n",
              "      <td>0</td>\n",
              "      <td>1</td>\n",
              "      <td>1</td>\n",
              "      <td>0</td>\n",
              "      <td>0</td>\n",
              "      <td>0</td>\n",
              "    </tr>\n",
              "    <tr>\n",
              "      <th>3</th>\n",
              "      <td>33.000000</td>\n",
              "      <td>1</td>\n",
              "      <td>9.0</td>\n",
              "      <td>2</td>\n",
              "      <td>3.0</td>\n",
              "      <td>3.0</td>\n",
              "      <td>2.0</td>\n",
              "      <td>1</td>\n",
              "      <td>5</td>\n",
              "      <td>1</td>\n",
              "      <td>1.0</td>\n",
              "      <td>17909.0</td>\n",
              "      <td>0</td>\n",
              "      <td>0</td>\n",
              "      <td>1</td>\n",
              "      <td>0</td>\n",
              "      <td>0</td>\n",
              "      <td>0</td>\n",
              "      <td>0</td>\n",
              "      <td>0</td>\n",
              "      <td>0</td>\n",
              "      <td>0</td>\n",
              "      <td>0</td>\n",
              "      <td>1</td>\n",
              "      <td>0</td>\n",
              "      <td>0</td>\n",
              "      <td>0</td>\n",
              "    </tr>\n",
              "    <tr>\n",
              "      <th>4</th>\n",
              "      <td>33.054181</td>\n",
              "      <td>1</td>\n",
              "      <td>8.0</td>\n",
              "      <td>2</td>\n",
              "      <td>3.0</td>\n",
              "      <td>4.0</td>\n",
              "      <td>1.0</td>\n",
              "      <td>0</td>\n",
              "      <td>5</td>\n",
              "      <td>1</td>\n",
              "      <td>0.0</td>\n",
              "      <td>18468.0</td>\n",
              "      <td>1</td>\n",
              "      <td>0</td>\n",
              "      <td>0</td>\n",
              "      <td>1</td>\n",
              "      <td>1</td>\n",
              "      <td>0</td>\n",
              "      <td>0</td>\n",
              "      <td>0</td>\n",
              "      <td>0</td>\n",
              "      <td>0</td>\n",
              "      <td>0</td>\n",
              "      <td>1</td>\n",
              "      <td>0</td>\n",
              "      <td>0</td>\n",
              "      <td>0</td>\n",
              "    </tr>\n",
              "  </tbody>\n",
              "</table>\n",
              "</div>"
            ],
            "text/plain": [
              "         Age  CityTier  DurationOfPitch  ...  Manager  Senior Manager  VP\n",
              "0  41.000000         3              6.0  ...        1               0   0\n",
              "1  49.000000         1             14.0  ...        1               0   0\n",
              "2  37.000000         1              8.0  ...        0               0   0\n",
              "3  33.000000         1              9.0  ...        0               0   0\n",
              "4  33.054181         1              8.0  ...        0               0   0\n",
              "\n",
              "[5 rows x 27 columns]"
            ]
          },
          "metadata": {},
          "execution_count": 22
        }
      ]
    },
    {
      "cell_type": "markdown",
      "metadata": {
        "id": "C5Yo-IRF5UTA"
      },
      "source": [
        "# Over Sampling - SMOTE\n",
        "\n",
        "To make the data balanced, we'll do over-sampling by SMOTENC from the records where target variable is 1, such that both the categories will be present in same frquency.\n",
        "\n",
        "Read more more about SMOTE:\n",
        "\n",
        "https://towardsdatascience.com/5-smote-techniques-for-oversampling-your-imbalance-data-b8155bdbe2b5"
      ]
    },
    {
      "cell_type": "code",
      "metadata": {
        "id": "64CmN6qJRBQA"
      },
      "source": [
        "num_features = ['Age', 'DurationOfPitch', 'MonthlyIncome']\n",
        "cat_features = [list(df_X.columns).index(i) for i in df_X.columns if i not in num_features]"
      ],
      "execution_count": null,
      "outputs": []
    },
    {
      "cell_type": "code",
      "metadata": {
        "id": "ryeb-sItUARP"
      },
      "source": [
        "from imblearn.over_sampling import SMOTENC\n",
        "os = SMOTENC(categorical_features = cat_features, random_state = 42)\n",
        "\n",
        "X, y = os.fit_sample(df_X, df_y)\n",
        "\n",
        "X = pd.DataFrame(data = X, columns = df_X.columns)\n",
        "y = pd.Series(y, name = 'ProdTaken')"
      ],
      "execution_count": null,
      "outputs": []
    },
    {
      "cell_type": "markdown",
      "metadata": {
        "id": "oUwsPSnn6zIn"
      },
      "source": [
        "Now let's check for the frequencies of two categories in target variable."
      ]
    },
    {
      "cell_type": "code",
      "metadata": {
        "colab": {
          "base_uri": "https://localhost:8080/"
        },
        "id": "sKuZeHK-VnIs",
        "outputId": "50f12a4f-8f0b-448b-8911-38e2f516e3b6"
      },
      "source": [
        "print(y[y==1].shape, y[y==0].shape)"
      ],
      "execution_count": null,
      "outputs": [
        {
          "output_type": "stream",
          "name": "stdout",
          "text": [
            "(3968,) (3968,)\n"
          ]
        }
      ]
    },
    {
      "cell_type": "code",
      "metadata": {
        "colab": {
          "base_uri": "https://localhost:8080/"
        },
        "id": "Ta1S6_tPWEbj",
        "outputId": "216ad06a-8090-41ca-bb50-a0c54c60f474"
      },
      "source": [
        "print(X[y==1].shape, X[y==0].shape)"
      ],
      "execution_count": null,
      "outputs": [
        {
          "output_type": "stream",
          "name": "stdout",
          "text": [
            "(3968, 27) (3968, 27)\n"
          ]
        }
      ]
    },
    {
      "cell_type": "markdown",
      "metadata": {
        "id": "5vhZw1NW7X2d"
      },
      "source": [
        "See! After doing over-sampling, our data is BALANCED now."
      ]
    },
    {
      "cell_type": "code",
      "metadata": {
        "colab": {
          "base_uri": "https://localhost:8080/",
          "height": 240
        },
        "id": "Pq_jio89SnSB",
        "outputId": "9bb10517-368c-49f7-9ccd-6c22736fb306"
      },
      "source": [
        "X.head()"
      ],
      "execution_count": null,
      "outputs": [
        {
          "output_type": "execute_result",
          "data": {
            "text/html": [
              "<div>\n",
              "<style scoped>\n",
              "    .dataframe tbody tr th:only-of-type {\n",
              "        vertical-align: middle;\n",
              "    }\n",
              "\n",
              "    .dataframe tbody tr th {\n",
              "        vertical-align: top;\n",
              "    }\n",
              "\n",
              "    .dataframe thead th {\n",
              "        text-align: right;\n",
              "    }\n",
              "</style>\n",
              "<table border=\"1\" class=\"dataframe\">\n",
              "  <thead>\n",
              "    <tr style=\"text-align: right;\">\n",
              "      <th></th>\n",
              "      <th>Age</th>\n",
              "      <th>CityTier</th>\n",
              "      <th>DurationOfPitch</th>\n",
              "      <th>NumberOfPersonVisited</th>\n",
              "      <th>NumberOfFollowups</th>\n",
              "      <th>PreferredPropertyStar</th>\n",
              "      <th>NumberOfTrips</th>\n",
              "      <th>Passport</th>\n",
              "      <th>PitchSatisfactionScore</th>\n",
              "      <th>OwnCar</th>\n",
              "      <th>NumberOfChildrenVisited</th>\n",
              "      <th>MonthlyIncome</th>\n",
              "      <th>Self Enquiry</th>\n",
              "      <th>Large Business</th>\n",
              "      <th>Salaried</th>\n",
              "      <th>Small Business</th>\n",
              "      <th>Male</th>\n",
              "      <th>Deluxe</th>\n",
              "      <th>King</th>\n",
              "      <th>Standard</th>\n",
              "      <th>Super Deluxe</th>\n",
              "      <th>Married</th>\n",
              "      <th>Single</th>\n",
              "      <th>Executive</th>\n",
              "      <th>Manager</th>\n",
              "      <th>Senior Manager</th>\n",
              "      <th>VP</th>\n",
              "    </tr>\n",
              "  </thead>\n",
              "  <tbody>\n",
              "    <tr>\n",
              "      <th>0</th>\n",
              "      <td>41.000000</td>\n",
              "      <td>3.0</td>\n",
              "      <td>6.0</td>\n",
              "      <td>3.0</td>\n",
              "      <td>3.0</td>\n",
              "      <td>3.0</td>\n",
              "      <td>1.0</td>\n",
              "      <td>1.0</td>\n",
              "      <td>2.0</td>\n",
              "      <td>1.0</td>\n",
              "      <td>0.0</td>\n",
              "      <td>20993.0</td>\n",
              "      <td>1.0</td>\n",
              "      <td>0.0</td>\n",
              "      <td>1.0</td>\n",
              "      <td>0.0</td>\n",
              "      <td>0.0</td>\n",
              "      <td>1.0</td>\n",
              "      <td>0.0</td>\n",
              "      <td>0.0</td>\n",
              "      <td>0.0</td>\n",
              "      <td>0.0</td>\n",
              "      <td>1.0</td>\n",
              "      <td>0.0</td>\n",
              "      <td>1.0</td>\n",
              "      <td>0.0</td>\n",
              "      <td>0.0</td>\n",
              "    </tr>\n",
              "    <tr>\n",
              "      <th>1</th>\n",
              "      <td>49.000000</td>\n",
              "      <td>1.0</td>\n",
              "      <td>14.0</td>\n",
              "      <td>3.0</td>\n",
              "      <td>4.0</td>\n",
              "      <td>4.0</td>\n",
              "      <td>2.0</td>\n",
              "      <td>0.0</td>\n",
              "      <td>3.0</td>\n",
              "      <td>1.0</td>\n",
              "      <td>2.0</td>\n",
              "      <td>20130.0</td>\n",
              "      <td>0.0</td>\n",
              "      <td>0.0</td>\n",
              "      <td>1.0</td>\n",
              "      <td>0.0</td>\n",
              "      <td>1.0</td>\n",
              "      <td>1.0</td>\n",
              "      <td>0.0</td>\n",
              "      <td>0.0</td>\n",
              "      <td>0.0</td>\n",
              "      <td>0.0</td>\n",
              "      <td>0.0</td>\n",
              "      <td>0.0</td>\n",
              "      <td>1.0</td>\n",
              "      <td>0.0</td>\n",
              "      <td>0.0</td>\n",
              "    </tr>\n",
              "    <tr>\n",
              "      <th>2</th>\n",
              "      <td>37.000000</td>\n",
              "      <td>1.0</td>\n",
              "      <td>8.0</td>\n",
              "      <td>3.0</td>\n",
              "      <td>4.0</td>\n",
              "      <td>3.0</td>\n",
              "      <td>7.0</td>\n",
              "      <td>1.0</td>\n",
              "      <td>3.0</td>\n",
              "      <td>0.0</td>\n",
              "      <td>0.0</td>\n",
              "      <td>17090.0</td>\n",
              "      <td>1.0</td>\n",
              "      <td>0.0</td>\n",
              "      <td>0.0</td>\n",
              "      <td>0.0</td>\n",
              "      <td>1.0</td>\n",
              "      <td>0.0</td>\n",
              "      <td>0.0</td>\n",
              "      <td>0.0</td>\n",
              "      <td>0.0</td>\n",
              "      <td>0.0</td>\n",
              "      <td>1.0</td>\n",
              "      <td>1.0</td>\n",
              "      <td>0.0</td>\n",
              "      <td>0.0</td>\n",
              "      <td>0.0</td>\n",
              "    </tr>\n",
              "    <tr>\n",
              "      <th>3</th>\n",
              "      <td>33.000000</td>\n",
              "      <td>1.0</td>\n",
              "      <td>9.0</td>\n",
              "      <td>2.0</td>\n",
              "      <td>3.0</td>\n",
              "      <td>3.0</td>\n",
              "      <td>2.0</td>\n",
              "      <td>1.0</td>\n",
              "      <td>5.0</td>\n",
              "      <td>1.0</td>\n",
              "      <td>1.0</td>\n",
              "      <td>17909.0</td>\n",
              "      <td>0.0</td>\n",
              "      <td>0.0</td>\n",
              "      <td>1.0</td>\n",
              "      <td>0.0</td>\n",
              "      <td>0.0</td>\n",
              "      <td>0.0</td>\n",
              "      <td>0.0</td>\n",
              "      <td>0.0</td>\n",
              "      <td>0.0</td>\n",
              "      <td>0.0</td>\n",
              "      <td>0.0</td>\n",
              "      <td>1.0</td>\n",
              "      <td>0.0</td>\n",
              "      <td>0.0</td>\n",
              "      <td>0.0</td>\n",
              "    </tr>\n",
              "    <tr>\n",
              "      <th>4</th>\n",
              "      <td>33.054181</td>\n",
              "      <td>1.0</td>\n",
              "      <td>8.0</td>\n",
              "      <td>2.0</td>\n",
              "      <td>3.0</td>\n",
              "      <td>4.0</td>\n",
              "      <td>1.0</td>\n",
              "      <td>0.0</td>\n",
              "      <td>5.0</td>\n",
              "      <td>1.0</td>\n",
              "      <td>0.0</td>\n",
              "      <td>18468.0</td>\n",
              "      <td>1.0</td>\n",
              "      <td>0.0</td>\n",
              "      <td>0.0</td>\n",
              "      <td>1.0</td>\n",
              "      <td>1.0</td>\n",
              "      <td>0.0</td>\n",
              "      <td>0.0</td>\n",
              "      <td>0.0</td>\n",
              "      <td>0.0</td>\n",
              "      <td>0.0</td>\n",
              "      <td>0.0</td>\n",
              "      <td>1.0</td>\n",
              "      <td>0.0</td>\n",
              "      <td>0.0</td>\n",
              "      <td>0.0</td>\n",
              "    </tr>\n",
              "  </tbody>\n",
              "</table>\n",
              "</div>"
            ],
            "text/plain": [
              "         Age  CityTier  DurationOfPitch  ...  Manager  Senior Manager   VP\n",
              "0  41.000000       3.0              6.0  ...      1.0             0.0  0.0\n",
              "1  49.000000       1.0             14.0  ...      1.0             0.0  0.0\n",
              "2  37.000000       1.0              8.0  ...      0.0             0.0  0.0\n",
              "3  33.000000       1.0              9.0  ...      0.0             0.0  0.0\n",
              "4  33.054181       1.0              8.0  ...      0.0             0.0  0.0\n",
              "\n",
              "[5 rows x 27 columns]"
            ]
          },
          "metadata": {},
          "execution_count": 28
        }
      ]
    },
    {
      "cell_type": "code",
      "metadata": {
        "id": "Rpr0rOR7Wa22"
      },
      "source": [
        "# transforming the numeric variables so that they become Gaussian distributed. (See the Preprocessing Notebook for reference)\n",
        "X['Age'] = X['Age']**(1/2)\n",
        "X['DurationOfPitch'] = X['DurationOfPitch']**(1/5)\n",
        "X['MonthlyIncome'] = np.log(X['MonthlyIncome'])"
      ],
      "execution_count": null,
      "outputs": []
    },
    {
      "cell_type": "code",
      "metadata": {
        "id": "Odez3uX3_p2N"
      },
      "source": [
        "# saving the over-sampled data as .csv file\n",
        "df_sampled = pd.concat([X, y], axis = 1)\n",
        "df_sampled.to_csv('over_sampled.csv', index = False)"
      ],
      "execution_count": null,
      "outputs": []
    },
    {
      "cell_type": "markdown",
      "metadata": {
        "id": "sdZ1CtDKUXmv"
      },
      "source": [
        "# Cross Validation Technique\n",
        "\n",
        "Here we will use stratified k-fold cross validation so that the training and test data will contain same proportion for two categories in target variable."
      ]
    },
    {
      "cell_type": "code",
      "metadata": {
        "id": "h-1oAjpEUXKl"
      },
      "source": [
        "from sklearn.model_selection import StratifiedKFold\n",
        "\n",
        "skfold = StratifiedKFold(n_splits = 5)"
      ],
      "execution_count": null,
      "outputs": []
    },
    {
      "cell_type": "markdown",
      "metadata": {
        "id": "4sDad4IsQt7d"
      },
      "source": [
        "# Logistic Regression"
      ]
    },
    {
      "cell_type": "code",
      "metadata": {
        "colab": {
          "base_uri": "https://localhost:8080/"
        },
        "id": "vdPLB6XdQqhB",
        "outputId": "53f3076e-587a-4788-b9b3-397f2de4a210"
      },
      "source": [
        "from sklearn.linear_model import LogisticRegression\n",
        "from sklearn.model_selection import cross_val_score\n",
        "\n",
        "logistic_model = LogisticRegression()\n",
        "\n",
        "scores_lg = cross_val_score(logistic_model, X, y, scoring='recall', cv = skfold, n_jobs = -1)\n",
        "print(\"Recall: \",scores_lg.mean())"
      ],
      "execution_count": null,
      "outputs": [
        {
          "output_type": "stream",
          "name": "stdout",
          "text": [
            "Recall:  0.7459851788794267\n"
          ]
        }
      ]
    },
    {
      "cell_type": "markdown",
      "metadata": {
        "id": "0c3gx_fq943c"
      },
      "source": [
        "By applying Logistic Regression we got  74.60% Recall."
      ]
    },
    {
      "cell_type": "markdown",
      "metadata": {
        "id": "j5x8edz7ToTi"
      },
      "source": [
        "# Random Forest Classifier"
      ]
    },
    {
      "cell_type": "code",
      "metadata": {
        "colab": {
          "base_uri": "https://localhost:8080/"
        },
        "id": "8rMO7AytTnS1",
        "outputId": "e5beaff8-4538-476c-c26c-d6655904a29b"
      },
      "source": [
        "from sklearn.ensemble import RandomForestClassifier\n",
        "from sklearn.model_selection import RandomizedSearchCV, StratifiedKFold\n",
        "\n",
        "skfold = StratifiedKFold(n_splits = 5)\n",
        "\n",
        "params = {'n_estimators': [100,150,200,250,300],\n",
        "          'max_depth': [None,5,7,10,13,15,17,20],\n",
        "          'min_samples_split': [2,3,4,5,6,7,8,9,10],\n",
        "          'min_samples_leaf': [1,2,3,4,5,6,7,8,9,10],\n",
        "          'max_features': ['auto','sqrt']}\n",
        "\n",
        "rf_cl = RandomizedSearchCV(RandomForestClassifier(), param_distributions = params, scoring = 'recall', n_iter = 100, cv = skfold, n_jobs = -1, verbose = 2)\n",
        "\n",
        "rf_cl.fit(X, y)\n",
        "\n",
        "print(\"Recall: \",rf_cl.best_score_)\n",
        "print(\"Best parameters: \",rf_cl.best_params_)"
      ],
      "execution_count": null,
      "outputs": [
        {
          "output_type": "stream",
          "name": "stdout",
          "text": [
            "Fitting 5 folds for each of 100 candidates, totalling 500 fits\n"
          ]
        },
        {
          "output_type": "stream",
          "name": "stderr",
          "text": [
            "[Parallel(n_jobs=-1)]: Using backend LokyBackend with 2 concurrent workers.\n",
            "[Parallel(n_jobs=-1)]: Done  37 tasks      | elapsed:   34.5s\n",
            "[Parallel(n_jobs=-1)]: Done 158 tasks      | elapsed:  2.5min\n",
            "[Parallel(n_jobs=-1)]: Done 361 tasks      | elapsed:  5.4min\n",
            "[Parallel(n_jobs=-1)]: Done 500 out of 500 | elapsed:  7.8min finished\n"
          ]
        },
        {
          "output_type": "stream",
          "name": "stdout",
          "text": [
            "Recall:  0.8954586892233998\n",
            "Best parameters:  {'n_estimators': 200, 'min_samples_split': 2, 'min_samples_leaf': 1, 'max_features': 'auto', 'max_depth': 15}\n"
          ]
        }
      ]
    },
    {
      "cell_type": "markdown",
      "metadata": {
        "id": "YSIJAaiY_fb-"
      },
      "source": [
        "By applying Random Forest Classifier we got 89.55% Recall."
      ]
    },
    {
      "cell_type": "markdown",
      "metadata": {
        "id": "XrzF4QDoIonD"
      },
      "source": [
        "# XGBoost Classifier"
      ]
    },
    {
      "cell_type": "code",
      "metadata": {
        "colab": {
          "base_uri": "https://localhost:8080/"
        },
        "id": "QxyMm0tbgyVZ",
        "outputId": "12877aa7-806d-4621-d599-3f35c1ce9675"
      },
      "source": [
        "from xgboost import XGBClassifier\n",
        "from sklearn.model_selection import RandomizedSearchCV\n",
        "\n",
        "params = {'n_estimators': [50,75,100,125,150,175,200],\n",
        "              'booster': ['gbtree'],\n",
        "              'max_depth': [None,3,4,5,7,10,13,15],\n",
        "              'learning_rate': [0.05,0.10,0.15,0.20,0.25,0.30],\n",
        "              'min_child_weight': [1,3,5,7],\n",
        "              'gamma': [ 0.0,0.1,0.2,0.3,0.4],\n",
        "              'colsample_bytree' : [0.3,0.4,0.5,0.7]}\n",
        "\n",
        "xgb_cl = RandomizedSearchCV(XGBClassifier(), param_distributions = params, cv = 5, scoring = 'recall', n_iter=100, n_jobs = -1, verbose = 2)\n",
        "\n",
        "xgb_cl.fit(X, y)\n",
        "\n",
        "print(\"Recall: \",xgb_cl.best_score_)\n",
        "print(\"Best parameters: \",xgb_cl.best_params_)"
      ],
      "execution_count": null,
      "outputs": [
        {
          "output_type": "stream",
          "name": "stdout",
          "text": [
            "Fitting 5 folds for each of 100 candidates, totalling 500 fits\n"
          ]
        },
        {
          "output_type": "stream",
          "name": "stderr",
          "text": [
            "[Parallel(n_jobs=-1)]: Using backend LokyBackend with 2 concurrent workers.\n",
            "[Parallel(n_jobs=-1)]: Done  37 tasks      | elapsed:   20.8s\n",
            "[Parallel(n_jobs=-1)]: Done 158 tasks      | elapsed:  2.1min\n",
            "[Parallel(n_jobs=-1)]: Done 361 tasks      | elapsed:  4.4min\n",
            "[Parallel(n_jobs=-1)]: Done 500 out of 500 | elapsed:  6.1min finished\n"
          ]
        },
        {
          "output_type": "stream",
          "name": "stdout",
          "text": [
            "Recall:  0.9052868137767176\n",
            "Best parameters:  {'n_estimators': 125, 'min_child_weight': 1, 'max_depth': 13, 'learning_rate': 0.1, 'gamma': 0.2, 'colsample_bytree': 0.5, 'booster': 'gbtree'}\n"
          ]
        }
      ]
    },
    {
      "cell_type": "markdown",
      "metadata": {
        "id": "859rtKUP_vWZ"
      },
      "source": [
        "By applying XGBoost Classifier we got 90.53% Recall."
      ]
    },
    {
      "cell_type": "markdown",
      "metadata": {
        "id": "-IsYccqhmhKr"
      },
      "source": [
        "# SVM"
      ]
    },
    {
      "cell_type": "code",
      "metadata": {
        "id": "uwlQTEzSmlrj",
        "colab": {
          "base_uri": "https://localhost:8080/"
        },
        "outputId": "0fe81cf9-73c6-4027-ca02-dde0f3a9c91f"
      },
      "source": [
        "from sklearn.svm import SVC\n",
        "from sklearn.model_selection import RandomizedSearchCV\n",
        "\n",
        "'''\n",
        "params = [{'kernel': ['rbf'], 'gamma': [1e-2, 1e-3, 1e-4, 1e-5], 'C': [0.001, 0.10, 0.1, 10, 25, 50, 100, 1000]},\n",
        "                    {'kernel': ['sigmoid'], 'gamma': [1e-2, 1e-3, 1e-4, 1e-5], 'C': [0.001, 0.10, 0.1, 10, 25, 50, 100, 1000]},\n",
        "                    {'kernel': ['linear'], 'C': [0.001, 0.10, 0.1, 10, 25, 50, 100, 1000]}\n",
        "                   ]\n",
        "'''\n",
        "\n",
        "params = {'kernel':['linear', 'poly', 'rbf'],\n",
        "          'C': [0.001, 0.10, 0.1, 10, 25, 50, 100],\n",
        "          'gamma': ['scale', 'auto', 1e-1, 1e-2, 1e-3],\n",
        "          'degree':[2,3,4,5]}\n",
        "\n",
        "svc_cl = RandomizedSearchCV(SVC(), param_distributions = params, n_iter = 10, scoring = 'recall', cv = 5, n_jobs = -1, verbose = 2)\n",
        "\n",
        "svc_cl.fit(X,y)\n",
        "\n",
        "print(\"Recall: \",svc_cl.best_score_)\n",
        "print(\"Best parameters: \",svc_cl.best_params_)"
      ],
      "execution_count": null,
      "outputs": [
        {
          "output_type": "stream",
          "name": "stdout",
          "text": [
            "Fitting 5 folds for each of 10 candidates, totalling 50 fits\n"
          ]
        },
        {
          "output_type": "stream",
          "name": "stderr",
          "text": [
            "[Parallel(n_jobs=-1)]: Using backend LokyBackend with 2 concurrent workers.\n",
            "[Parallel(n_jobs=-1)]: Done  37 tasks      | elapsed:  3.6min\n",
            "[Parallel(n_jobs=-1)]: Done  50 out of  50 | elapsed:  4.8min finished\n"
          ]
        },
        {
          "output_type": "stream",
          "name": "stdout",
          "text": [
            "Recall:  0.9070478144723509\n",
            "Best parameters:  {'kernel': 'rbf', 'gamma': 0.1, 'degree': 5, 'C': 25}\n"
          ]
        }
      ]
    },
    {
      "cell_type": "markdown",
      "metadata": {
        "id": "9hjBK7Gg_8dL"
      },
      "source": [
        "By applying SVM we got 90.70% Recall."
      ]
    },
    {
      "cell_type": "markdown",
      "metadata": {
        "id": "pHtcFlBlA9Dq"
      },
      "source": [
        "# KNN"
      ]
    },
    {
      "cell_type": "code",
      "metadata": {
        "id": "JkDsFF7eA8UQ"
      },
      "source": [
        "from sklearn.preprocessing import StandardScaler\n",
        "\n",
        "scaler = StandardScaler()\n",
        "\n",
        "X_scaled = scaler.fit_transform(X)\n",
        "X_scaled = pd.DataFrame(X_scaled, columns = X.columns)"
      ],
      "execution_count": null,
      "outputs": []
    },
    {
      "cell_type": "code",
      "metadata": {
        "colab": {
          "base_uri": "https://localhost:8080/",
          "height": 240
        },
        "id": "rOYVKnHoEEGd",
        "outputId": "8b08646f-b13f-4a8e-96a8-0b942d368585"
      },
      "source": [
        "X_scaled.head()"
      ],
      "execution_count": null,
      "outputs": [
        {
          "output_type": "execute_result",
          "data": {
            "text/html": [
              "<div>\n",
              "<style scoped>\n",
              "    .dataframe tbody tr th:only-of-type {\n",
              "        vertical-align: middle;\n",
              "    }\n",
              "\n",
              "    .dataframe tbody tr th {\n",
              "        vertical-align: top;\n",
              "    }\n",
              "\n",
              "    .dataframe thead th {\n",
              "        text-align: right;\n",
              "    }\n",
              "</style>\n",
              "<table border=\"1\" class=\"dataframe\">\n",
              "  <thead>\n",
              "    <tr style=\"text-align: right;\">\n",
              "      <th></th>\n",
              "      <th>Age</th>\n",
              "      <th>CityTier</th>\n",
              "      <th>DurationOfPitch</th>\n",
              "      <th>NumberOfPersonVisited</th>\n",
              "      <th>NumberOfFollowups</th>\n",
              "      <th>PreferredPropertyStar</th>\n",
              "      <th>NumberOfTrips</th>\n",
              "      <th>Passport</th>\n",
              "      <th>PitchSatisfactionScore</th>\n",
              "      <th>OwnCar</th>\n",
              "      <th>NumberOfChildrenVisited</th>\n",
              "      <th>MonthlyIncome</th>\n",
              "      <th>Self Enquiry</th>\n",
              "      <th>Large Business</th>\n",
              "      <th>Salaried</th>\n",
              "      <th>Small Business</th>\n",
              "      <th>Male</th>\n",
              "      <th>Deluxe</th>\n",
              "      <th>King</th>\n",
              "      <th>Standard</th>\n",
              "      <th>Super Deluxe</th>\n",
              "      <th>Married</th>\n",
              "      <th>Single</th>\n",
              "      <th>Executive</th>\n",
              "      <th>Manager</th>\n",
              "      <th>Senior Manager</th>\n",
              "      <th>VP</th>\n",
              "    </tr>\n",
              "  </thead>\n",
              "  <tbody>\n",
              "    <tr>\n",
              "      <th>0</th>\n",
              "      <td>0.562774</td>\n",
              "      <td>1.456137</td>\n",
              "      <td>-1.695472</td>\n",
              "      <td>0.116221</td>\n",
              "      <td>-0.807358</td>\n",
              "      <td>-0.718383</td>\n",
              "      <td>-1.192121</td>\n",
              "      <td>1.232625</td>\n",
              "      <td>-0.908561</td>\n",
              "      <td>0.718297</td>\n",
              "      <td>-1.378916</td>\n",
              "      <td>-0.347968</td>\n",
              "      <td>0.631005</td>\n",
              "      <td>-0.263708</td>\n",
              "      <td>1.101666</td>\n",
              "      <td>-0.843913</td>\n",
              "      <td>-1.301821</td>\n",
              "      <td>1.580860</td>\n",
              "      <td>-0.200942</td>\n",
              "      <td>-0.3849</td>\n",
              "      <td>-0.224876</td>\n",
              "      <td>-0.777723</td>\n",
              "      <td>1.236853</td>\n",
              "      <td>-0.941001</td>\n",
              "      <td>1.580860</td>\n",
              "      <td>-0.3849</td>\n",
              "      <td>-0.200942</td>\n",
              "    </tr>\n",
              "    <tr>\n",
              "      <th>1</th>\n",
              "      <td>1.359564</td>\n",
              "      <td>-0.711137</td>\n",
              "      <td>-0.082497</td>\n",
              "      <td>0.116221</td>\n",
              "      <td>0.254139</td>\n",
              "      <td>0.515085</td>\n",
              "      <td>-0.636167</td>\n",
              "      <td>-0.811277</td>\n",
              "      <td>-0.145966</td>\n",
              "      <td>0.718297</td>\n",
              "      <td>1.055584</td>\n",
              "      <td>-0.560741</td>\n",
              "      <td>-1.584773</td>\n",
              "      <td>-0.263708</td>\n",
              "      <td>1.101666</td>\n",
              "      <td>-0.843913</td>\n",
              "      <td>0.768155</td>\n",
              "      <td>1.580860</td>\n",
              "      <td>-0.200942</td>\n",
              "      <td>-0.3849</td>\n",
              "      <td>-0.224876</td>\n",
              "      <td>-0.777723</td>\n",
              "      <td>-0.808503</td>\n",
              "      <td>-0.941001</td>\n",
              "      <td>1.580860</td>\n",
              "      <td>-0.3849</td>\n",
              "      <td>-0.200942</td>\n",
              "    </tr>\n",
              "    <tr>\n",
              "      <th>2</th>\n",
              "      <td>0.135112</td>\n",
              "      <td>-0.711137</td>\n",
              "      <td>-1.178174</td>\n",
              "      <td>0.116221</td>\n",
              "      <td>0.254139</td>\n",
              "      <td>-0.718383</td>\n",
              "      <td>2.143603</td>\n",
              "      <td>1.232625</td>\n",
              "      <td>-0.145966</td>\n",
              "      <td>-1.392182</td>\n",
              "      <td>-1.378916</td>\n",
              "      <td>-1.390576</td>\n",
              "      <td>0.631005</td>\n",
              "      <td>-0.263708</td>\n",
              "      <td>-0.907716</td>\n",
              "      <td>-0.843913</td>\n",
              "      <td>0.768155</td>\n",
              "      <td>-0.632567</td>\n",
              "      <td>-0.200942</td>\n",
              "      <td>-0.3849</td>\n",
              "      <td>-0.224876</td>\n",
              "      <td>-0.777723</td>\n",
              "      <td>1.236853</td>\n",
              "      <td>1.062698</td>\n",
              "      <td>-0.632567</td>\n",
              "      <td>-0.3849</td>\n",
              "      <td>-0.200942</td>\n",
              "    </tr>\n",
              "    <tr>\n",
              "      <th>3</th>\n",
              "      <td>-0.316363</td>\n",
              "      <td>-0.711137</td>\n",
              "      <td>-0.957643</td>\n",
              "      <td>-1.300566</td>\n",
              "      <td>-0.807358</td>\n",
              "      <td>-0.718383</td>\n",
              "      <td>-0.636167</td>\n",
              "      <td>1.232625</td>\n",
              "      <td>1.379225</td>\n",
              "      <td>0.718297</td>\n",
              "      <td>-0.161666</td>\n",
              "      <td>-1.153311</td>\n",
              "      <td>-1.584773</td>\n",
              "      <td>-0.263708</td>\n",
              "      <td>1.101666</td>\n",
              "      <td>-0.843913</td>\n",
              "      <td>-1.301821</td>\n",
              "      <td>-0.632567</td>\n",
              "      <td>-0.200942</td>\n",
              "      <td>-0.3849</td>\n",
              "      <td>-0.224876</td>\n",
              "      <td>-0.777723</td>\n",
              "      <td>-0.808503</td>\n",
              "      <td>1.062698</td>\n",
              "      <td>-0.632567</td>\n",
              "      <td>-0.3849</td>\n",
              "      <td>-0.200942</td>\n",
              "    </tr>\n",
              "    <tr>\n",
              "      <th>4</th>\n",
              "      <td>-0.310070</td>\n",
              "      <td>-0.711137</td>\n",
              "      <td>-1.178174</td>\n",
              "      <td>-1.300566</td>\n",
              "      <td>-0.807358</td>\n",
              "      <td>0.515085</td>\n",
              "      <td>-1.192121</td>\n",
              "      <td>-0.811277</td>\n",
              "      <td>1.379225</td>\n",
              "      <td>0.718297</td>\n",
              "      <td>-1.378916</td>\n",
              "      <td>-0.997519</td>\n",
              "      <td>0.631005</td>\n",
              "      <td>-0.263708</td>\n",
              "      <td>-0.907716</td>\n",
              "      <td>1.184956</td>\n",
              "      <td>0.768155</td>\n",
              "      <td>-0.632567</td>\n",
              "      <td>-0.200942</td>\n",
              "      <td>-0.3849</td>\n",
              "      <td>-0.224876</td>\n",
              "      <td>-0.777723</td>\n",
              "      <td>-0.808503</td>\n",
              "      <td>1.062698</td>\n",
              "      <td>-0.632567</td>\n",
              "      <td>-0.3849</td>\n",
              "      <td>-0.200942</td>\n",
              "    </tr>\n",
              "  </tbody>\n",
              "</table>\n",
              "</div>"
            ],
            "text/plain": [
              "        Age  CityTier  DurationOfPitch  ...   Manager  Senior Manager        VP\n",
              "0  0.562774  1.456137        -1.695472  ...  1.580860         -0.3849 -0.200942\n",
              "1  1.359564 -0.711137        -0.082497  ...  1.580860         -0.3849 -0.200942\n",
              "2  0.135112 -0.711137        -1.178174  ... -0.632567         -0.3849 -0.200942\n",
              "3 -0.316363 -0.711137        -0.957643  ... -0.632567         -0.3849 -0.200942\n",
              "4 -0.310070 -0.711137        -1.178174  ... -0.632567         -0.3849 -0.200942\n",
              "\n",
              "[5 rows x 27 columns]"
            ]
          },
          "metadata": {},
          "execution_count": 18
        }
      ]
    },
    {
      "cell_type": "code",
      "metadata": {
        "colab": {
          "base_uri": "https://localhost:8080/"
        },
        "id": "psQtXkIZ6u77",
        "outputId": "bfe0fab7-a34c-417b-bf5e-ba51e2398da3"
      },
      "source": [
        "y.head()"
      ],
      "execution_count": null,
      "outputs": [
        {
          "output_type": "execute_result",
          "data": {
            "text/plain": [
              "0    1\n",
              "1    0\n",
              "2    1\n",
              "3    0\n",
              "4    0\n",
              "Name: ProdTaken, dtype: int64"
            ]
          },
          "metadata": {},
          "execution_count": 36
        }
      ]
    },
    {
      "cell_type": "code",
      "metadata": {
        "colab": {
          "base_uri": "https://localhost:8080/"
        },
        "id": "JzQXHnJwE9-m",
        "outputId": "237aa6dd-ba64-470e-bf4d-84c82d04c4fc"
      },
      "source": [
        "from sklearn.neighbors import KNeighborsClassifier\n",
        "from sklearn.model_selection import RandomizedSearchCV\n",
        "\n",
        "params = {'n_neighbors':[3,4,5,6,7,8,9,10,11,13,15],\n",
        "          'weights':['uniform','distance'],\n",
        "          'metric':['euclidean','manhattan']}\n",
        "\n",
        "knn_cl = RandomizedSearchCV(KNeighborsClassifier(), param_distributions = params, cv = 5, scoring = 'recall', n_iter=100, n_jobs = -1, verbose = 2)\n",
        "\n",
        "knn_cl.fit(X_scaled, y)"
      ],
      "execution_count": null,
      "outputs": [
        {
          "output_type": "stream",
          "name": "stdout",
          "text": [
            "Fitting 5 folds for each of 44 candidates, totalling 220 fits\n"
          ]
        },
        {
          "output_type": "stream",
          "name": "stderr",
          "text": [
            "/usr/local/lib/python3.7/dist-packages/sklearn/model_selection/_search.py:281: UserWarning: The total space of parameters 44 is smaller than n_iter=100. Running 44 iterations. For exhaustive searches, use GridSearchCV.\n",
            "  % (grid_size, self.n_iter, grid_size), UserWarning)\n",
            "[Parallel(n_jobs=-1)]: Using backend LokyBackend with 2 concurrent workers.\n",
            "[Parallel(n_jobs=-1)]: Done  37 tasks      | elapsed:   17.2s\n",
            "[Parallel(n_jobs=-1)]: Done 158 tasks      | elapsed:  1.2min\n",
            "[Parallel(n_jobs=-1)]: Done 220 out of 220 | elapsed:  1.7min finished\n"
          ]
        },
        {
          "output_type": "execute_result",
          "data": {
            "text/plain": [
              "RandomizedSearchCV(cv=5, error_score=nan,\n",
              "                   estimator=KNeighborsClassifier(algorithm='auto',\n",
              "                                                  leaf_size=30,\n",
              "                                                  metric='minkowski',\n",
              "                                                  metric_params=None,\n",
              "                                                  n_jobs=None, n_neighbors=5,\n",
              "                                                  p=2, weights='uniform'),\n",
              "                   iid='deprecated', n_iter=100, n_jobs=-1,\n",
              "                   param_distributions={'metric': ['euclidean', 'manhattan'],\n",
              "                                        'n_neighbors': [3, 4, 5, 6, 7, 8, 9, 10,\n",
              "                                                        11, 13, 15],\n",
              "                                        'weights': ['uniform', 'distance']},\n",
              "                   pre_dispatch='2*n_jobs', random_state=None, refit=True,\n",
              "                   return_train_score=False, scoring='recall', verbose=2)"
            ]
          },
          "metadata": {},
          "execution_count": 25
        }
      ]
    },
    {
      "cell_type": "code",
      "metadata": {
        "colab": {
          "base_uri": "https://localhost:8080/"
        },
        "id": "xhC-1frF0FBL",
        "outputId": "b33bd8b1-1fba-4a8a-94e2-e2749efcd203"
      },
      "source": [
        "print(\"Recall: \",knn_cl.best_score_)\n",
        "print(\"Best parameters: \",knn_cl.best_params_)"
      ],
      "execution_count": null,
      "outputs": [
        {
          "output_type": "stream",
          "name": "stdout",
          "text": [
            "Recall:  0.9365223412669421\n",
            "Best parameters:  {'weights': 'distance', 'n_neighbors': 5, 'metric': 'manhattan'}\n"
          ]
        }
      ]
    },
    {
      "cell_type": "markdown",
      "metadata": {
        "id": "-IhMWKyTAJNR"
      },
      "source": [
        "By applying K-nearest neibors Classifier we got 93.65% Recall."
      ]
    },
    {
      "cell_type": "markdown",
      "metadata": {
        "id": "gPcMnez3NOC2"
      },
      "source": [
        "# CatBoost"
      ]
    },
    {
      "cell_type": "code",
      "metadata": {
        "id": "r89RII8UNXX-"
      },
      "source": [
        "!pip install catboost"
      ],
      "execution_count": null,
      "outputs": []
    },
    {
      "cell_type": "code",
      "metadata": {
        "colab": {
          "base_uri": "https://localhost:8080/",
          "height": 274
        },
        "id": "MIFkjHLHNjEL",
        "outputId": "875ca3a4-339a-4b7f-80d2-d300c6be7eb0"
      },
      "source": [
        "# loading the non-encoded data\n",
        "df2 = pd.read_csv('https://raw.githubusercontent.com/Suvam-Bit/Datasets/main/Tourism%20Package%20Purchase%20Prediction/preprocessed2.csv')\n",
        "df2.head()"
      ],
      "execution_count": null,
      "outputs": [
        {
          "output_type": "execute_result",
          "data": {
            "text/html": [
              "<div>\n",
              "<style scoped>\n",
              "    .dataframe tbody tr th:only-of-type {\n",
              "        vertical-align: middle;\n",
              "    }\n",
              "\n",
              "    .dataframe tbody tr th {\n",
              "        vertical-align: top;\n",
              "    }\n",
              "\n",
              "    .dataframe thead th {\n",
              "        text-align: right;\n",
              "    }\n",
              "</style>\n",
              "<table border=\"1\" class=\"dataframe\">\n",
              "  <thead>\n",
              "    <tr style=\"text-align: right;\">\n",
              "      <th></th>\n",
              "      <th>ProdTaken</th>\n",
              "      <th>Age</th>\n",
              "      <th>TypeofContact</th>\n",
              "      <th>CityTier</th>\n",
              "      <th>DurationOfPitch</th>\n",
              "      <th>Occupation</th>\n",
              "      <th>Gender</th>\n",
              "      <th>NumberOfPersonVisited</th>\n",
              "      <th>NumberOfFollowups</th>\n",
              "      <th>ProductPitched</th>\n",
              "      <th>PreferredPropertyStar</th>\n",
              "      <th>MaritalStatus</th>\n",
              "      <th>NumberOfTrips</th>\n",
              "      <th>Passport</th>\n",
              "      <th>PitchSatisfactionScore</th>\n",
              "      <th>OwnCar</th>\n",
              "      <th>NumberOfChildrenVisited</th>\n",
              "      <th>Designation</th>\n",
              "      <th>MonthlyIncome</th>\n",
              "    </tr>\n",
              "  </thead>\n",
              "  <tbody>\n",
              "    <tr>\n",
              "      <th>0</th>\n",
              "      <td>1</td>\n",
              "      <td>41.000000</td>\n",
              "      <td>Self Enquiry</td>\n",
              "      <td>3</td>\n",
              "      <td>6.0</td>\n",
              "      <td>Salaried</td>\n",
              "      <td>Female</td>\n",
              "      <td>3</td>\n",
              "      <td>3.0</td>\n",
              "      <td>Deluxe</td>\n",
              "      <td>3.0</td>\n",
              "      <td>Single</td>\n",
              "      <td>1.0</td>\n",
              "      <td>1</td>\n",
              "      <td>2</td>\n",
              "      <td>1</td>\n",
              "      <td>0.0</td>\n",
              "      <td>Manager</td>\n",
              "      <td>20993.0</td>\n",
              "    </tr>\n",
              "    <tr>\n",
              "      <th>1</th>\n",
              "      <td>0</td>\n",
              "      <td>49.000000</td>\n",
              "      <td>Company Invited</td>\n",
              "      <td>1</td>\n",
              "      <td>14.0</td>\n",
              "      <td>Salaried</td>\n",
              "      <td>Male</td>\n",
              "      <td>3</td>\n",
              "      <td>4.0</td>\n",
              "      <td>Deluxe</td>\n",
              "      <td>4.0</td>\n",
              "      <td>Divorced</td>\n",
              "      <td>2.0</td>\n",
              "      <td>0</td>\n",
              "      <td>3</td>\n",
              "      <td>1</td>\n",
              "      <td>2.0</td>\n",
              "      <td>Manager</td>\n",
              "      <td>20130.0</td>\n",
              "    </tr>\n",
              "    <tr>\n",
              "      <th>2</th>\n",
              "      <td>1</td>\n",
              "      <td>37.000000</td>\n",
              "      <td>Self Enquiry</td>\n",
              "      <td>1</td>\n",
              "      <td>8.0</td>\n",
              "      <td>Free Lancer</td>\n",
              "      <td>Male</td>\n",
              "      <td>3</td>\n",
              "      <td>4.0</td>\n",
              "      <td>Basic</td>\n",
              "      <td>3.0</td>\n",
              "      <td>Single</td>\n",
              "      <td>7.0</td>\n",
              "      <td>1</td>\n",
              "      <td>3</td>\n",
              "      <td>0</td>\n",
              "      <td>0.0</td>\n",
              "      <td>Executive</td>\n",
              "      <td>17090.0</td>\n",
              "    </tr>\n",
              "    <tr>\n",
              "      <th>3</th>\n",
              "      <td>0</td>\n",
              "      <td>33.000000</td>\n",
              "      <td>Company Invited</td>\n",
              "      <td>1</td>\n",
              "      <td>9.0</td>\n",
              "      <td>Salaried</td>\n",
              "      <td>Female</td>\n",
              "      <td>2</td>\n",
              "      <td>3.0</td>\n",
              "      <td>Basic</td>\n",
              "      <td>3.0</td>\n",
              "      <td>Divorced</td>\n",
              "      <td>2.0</td>\n",
              "      <td>1</td>\n",
              "      <td>5</td>\n",
              "      <td>1</td>\n",
              "      <td>1.0</td>\n",
              "      <td>Executive</td>\n",
              "      <td>17909.0</td>\n",
              "    </tr>\n",
              "    <tr>\n",
              "      <th>4</th>\n",
              "      <td>0</td>\n",
              "      <td>33.054181</td>\n",
              "      <td>Self Enquiry</td>\n",
              "      <td>1</td>\n",
              "      <td>8.0</td>\n",
              "      <td>Small Business</td>\n",
              "      <td>Male</td>\n",
              "      <td>2</td>\n",
              "      <td>3.0</td>\n",
              "      <td>Basic</td>\n",
              "      <td>4.0</td>\n",
              "      <td>Divorced</td>\n",
              "      <td>1.0</td>\n",
              "      <td>0</td>\n",
              "      <td>5</td>\n",
              "      <td>1</td>\n",
              "      <td>0.0</td>\n",
              "      <td>Executive</td>\n",
              "      <td>18468.0</td>\n",
              "    </tr>\n",
              "  </tbody>\n",
              "</table>\n",
              "</div>"
            ],
            "text/plain": [
              "   ProdTaken        Age  ... Designation  MonthlyIncome\n",
              "0          1  41.000000  ...     Manager        20993.0\n",
              "1          0  49.000000  ...     Manager        20130.0\n",
              "2          1  37.000000  ...   Executive        17090.0\n",
              "3          0  33.000000  ...   Executive        17909.0\n",
              "4          0  33.054181  ...   Executive        18468.0\n",
              "\n",
              "[5 rows x 19 columns]"
            ]
          },
          "metadata": {},
          "execution_count": 5
        }
      ]
    },
    {
      "cell_type": "code",
      "metadata": {
        "id": "dLVf7o3IN2cc"
      },
      "source": [
        "# splitting in features and target data\n",
        "df2_X = df2.drop('ProdTaken', axis = 1)\n",
        "df2_y = df2['ProdTaken']"
      ],
      "execution_count": null,
      "outputs": []
    },
    {
      "cell_type": "code",
      "metadata": {
        "id": "-_FqHEzSOIF-"
      },
      "source": [
        "# label-encoding the categorical features\n",
        "cat_var = ['TypeofContact', 'Occupation', 'Gender', 'ProductPitched', 'MaritalStatus', 'Designation']\n",
        "\n",
        "for i in cat_var:\n",
        "    df2_X[i] = df2_X[i].astype('category').cat.codes"
      ],
      "execution_count": null,
      "outputs": []
    },
    {
      "cell_type": "code",
      "metadata": {
        "colab": {
          "base_uri": "https://localhost:8080/",
          "height": 223
        },
        "id": "8ptO2p2_On83",
        "outputId": "b8c9d83c-ad18-4411-eb25-58432bd74010"
      },
      "source": [
        "df2_X.head()"
      ],
      "execution_count": null,
      "outputs": [
        {
          "output_type": "execute_result",
          "data": {
            "text/html": [
              "<div>\n",
              "<style scoped>\n",
              "    .dataframe tbody tr th:only-of-type {\n",
              "        vertical-align: middle;\n",
              "    }\n",
              "\n",
              "    .dataframe tbody tr th {\n",
              "        vertical-align: top;\n",
              "    }\n",
              "\n",
              "    .dataframe thead th {\n",
              "        text-align: right;\n",
              "    }\n",
              "</style>\n",
              "<table border=\"1\" class=\"dataframe\">\n",
              "  <thead>\n",
              "    <tr style=\"text-align: right;\">\n",
              "      <th></th>\n",
              "      <th>Age</th>\n",
              "      <th>TypeofContact</th>\n",
              "      <th>CityTier</th>\n",
              "      <th>DurationOfPitch</th>\n",
              "      <th>Occupation</th>\n",
              "      <th>Gender</th>\n",
              "      <th>NumberOfPersonVisited</th>\n",
              "      <th>NumberOfFollowups</th>\n",
              "      <th>ProductPitched</th>\n",
              "      <th>PreferredPropertyStar</th>\n",
              "      <th>MaritalStatus</th>\n",
              "      <th>NumberOfTrips</th>\n",
              "      <th>Passport</th>\n",
              "      <th>PitchSatisfactionScore</th>\n",
              "      <th>OwnCar</th>\n",
              "      <th>NumberOfChildrenVisited</th>\n",
              "      <th>Designation</th>\n",
              "      <th>MonthlyIncome</th>\n",
              "    </tr>\n",
              "  </thead>\n",
              "  <tbody>\n",
              "    <tr>\n",
              "      <th>0</th>\n",
              "      <td>41.000000</td>\n",
              "      <td>1</td>\n",
              "      <td>3</td>\n",
              "      <td>6.0</td>\n",
              "      <td>2</td>\n",
              "      <td>0</td>\n",
              "      <td>3</td>\n",
              "      <td>3.0</td>\n",
              "      <td>1</td>\n",
              "      <td>3.0</td>\n",
              "      <td>2</td>\n",
              "      <td>1.0</td>\n",
              "      <td>1</td>\n",
              "      <td>2</td>\n",
              "      <td>1</td>\n",
              "      <td>0.0</td>\n",
              "      <td>2</td>\n",
              "      <td>20993.0</td>\n",
              "    </tr>\n",
              "    <tr>\n",
              "      <th>1</th>\n",
              "      <td>49.000000</td>\n",
              "      <td>0</td>\n",
              "      <td>1</td>\n",
              "      <td>14.0</td>\n",
              "      <td>2</td>\n",
              "      <td>1</td>\n",
              "      <td>3</td>\n",
              "      <td>4.0</td>\n",
              "      <td>1</td>\n",
              "      <td>4.0</td>\n",
              "      <td>0</td>\n",
              "      <td>2.0</td>\n",
              "      <td>0</td>\n",
              "      <td>3</td>\n",
              "      <td>1</td>\n",
              "      <td>2.0</td>\n",
              "      <td>2</td>\n",
              "      <td>20130.0</td>\n",
              "    </tr>\n",
              "    <tr>\n",
              "      <th>2</th>\n",
              "      <td>37.000000</td>\n",
              "      <td>1</td>\n",
              "      <td>1</td>\n",
              "      <td>8.0</td>\n",
              "      <td>0</td>\n",
              "      <td>1</td>\n",
              "      <td>3</td>\n",
              "      <td>4.0</td>\n",
              "      <td>0</td>\n",
              "      <td>3.0</td>\n",
              "      <td>2</td>\n",
              "      <td>7.0</td>\n",
              "      <td>1</td>\n",
              "      <td>3</td>\n",
              "      <td>0</td>\n",
              "      <td>0.0</td>\n",
              "      <td>1</td>\n",
              "      <td>17090.0</td>\n",
              "    </tr>\n",
              "    <tr>\n",
              "      <th>3</th>\n",
              "      <td>33.000000</td>\n",
              "      <td>0</td>\n",
              "      <td>1</td>\n",
              "      <td>9.0</td>\n",
              "      <td>2</td>\n",
              "      <td>0</td>\n",
              "      <td>2</td>\n",
              "      <td>3.0</td>\n",
              "      <td>0</td>\n",
              "      <td>3.0</td>\n",
              "      <td>0</td>\n",
              "      <td>2.0</td>\n",
              "      <td>1</td>\n",
              "      <td>5</td>\n",
              "      <td>1</td>\n",
              "      <td>1.0</td>\n",
              "      <td>1</td>\n",
              "      <td>17909.0</td>\n",
              "    </tr>\n",
              "    <tr>\n",
              "      <th>4</th>\n",
              "      <td>33.054181</td>\n",
              "      <td>1</td>\n",
              "      <td>1</td>\n",
              "      <td>8.0</td>\n",
              "      <td>3</td>\n",
              "      <td>1</td>\n",
              "      <td>2</td>\n",
              "      <td>3.0</td>\n",
              "      <td>0</td>\n",
              "      <td>4.0</td>\n",
              "      <td>0</td>\n",
              "      <td>1.0</td>\n",
              "      <td>0</td>\n",
              "      <td>5</td>\n",
              "      <td>1</td>\n",
              "      <td>0.0</td>\n",
              "      <td>1</td>\n",
              "      <td>18468.0</td>\n",
              "    </tr>\n",
              "  </tbody>\n",
              "</table>\n",
              "</div>"
            ],
            "text/plain": [
              "         Age  TypeofContact  ...  Designation  MonthlyIncome\n",
              "0  41.000000              1  ...            2        20993.0\n",
              "1  49.000000              0  ...            2        20130.0\n",
              "2  37.000000              1  ...            1        17090.0\n",
              "3  33.000000              0  ...            1        17909.0\n",
              "4  33.054181              1  ...            1        18468.0\n",
              "\n",
              "[5 rows x 18 columns]"
            ]
          },
          "metadata": {},
          "execution_count": 8
        }
      ]
    },
    {
      "cell_type": "code",
      "metadata": {
        "colab": {
          "base_uri": "https://localhost:8080/"
        },
        "id": "l9RQho8xW0zy",
        "outputId": "bbda7fda-db5c-4a31-d377-0d75f6327613"
      },
      "source": [
        "# category labels of each category in each categorical variable\n",
        "cat_var = ['TypeofContact', 'Occupation', 'Gender', 'ProductPitched', 'MaritalStatus', 'Designation']\n",
        "cat_dict = {}\n",
        "\n",
        "for i in cat_var:\n",
        "  d = {}\n",
        "  for j in range(len(df2)):\n",
        "    d[df2[i][j]] = df2_X[i][j]\n",
        "  cat_dict[i] = d\n",
        "\n",
        "for key,val in cat_dict.items():\n",
        "  print(key)\n",
        "  for i,j in val.items():\n",
        "    print(f'{i} : {j}')\n",
        "  print('\\n')"
      ],
      "execution_count": null,
      "outputs": [
        {
          "output_type": "stream",
          "name": "stdout",
          "text": [
            "TypeofContact\n",
            "Self Enquiry : 1\n",
            "Company Invited : 0\n",
            "\n",
            "\n",
            "Occupation\n",
            "Salaried : 2\n",
            "Free Lancer : 0\n",
            "Small Business : 3\n",
            "Large Business : 1\n",
            "\n",
            "\n",
            "Gender\n",
            "Female : 0\n",
            "Male : 1\n",
            "\n",
            "\n",
            "ProductPitched\n",
            "Deluxe : 1\n",
            "Basic : 0\n",
            "Standard : 3\n",
            "Super Deluxe : 4\n",
            "King : 2\n",
            "\n",
            "\n",
            "MaritalStatus\n",
            "Single : 2\n",
            "Divorced : 0\n",
            "Married : 1\n",
            "\n",
            "\n",
            "Designation\n",
            "Manager : 2\n",
            "Executive : 1\n",
            "Senior Manager : 3\n",
            "AVP : 0\n",
            "VP : 4\n",
            "\n",
            "\n"
          ]
        }
      ]
    },
    {
      "cell_type": "markdown",
      "metadata": {
        "id": "go9QyrkJDG96"
      },
      "source": [
        "Now we'll apply SMOTE for over-sampling the data like the previous one."
      ]
    },
    {
      "cell_type": "code",
      "metadata": {
        "colab": {
          "base_uri": "https://localhost:8080/"
        },
        "id": "IU8HeIRLPl_-",
        "outputId": "87646e05-4785-4bc1-a688-9be8bb174d8c"
      },
      "source": [
        "df2_X.shape"
      ],
      "execution_count": null,
      "outputs": [
        {
          "output_type": "execute_result",
          "data": {
            "text/plain": [
              "(4888, 18)"
            ]
          },
          "metadata": {},
          "execution_count": 10
        }
      ]
    },
    {
      "cell_type": "code",
      "metadata": {
        "colab": {
          "base_uri": "https://localhost:8080/"
        },
        "id": "NMLndBxYeSPA",
        "outputId": "00e1379d-35c4-47b8-db3d-95bb36fe0e88"
      },
      "source": [
        "print(df2_X[df2_y==1].shape, df2_X[df2_y==0].shape)"
      ],
      "execution_count": null,
      "outputs": [
        {
          "output_type": "stream",
          "name": "stdout",
          "text": [
            "(920, 18) (3968, 18)\n"
          ]
        }
      ]
    },
    {
      "cell_type": "code",
      "metadata": {
        "colab": {
          "base_uri": "https://localhost:8080/"
        },
        "id": "_kINYf2SelIe",
        "outputId": "e6b06203-ba32-4393-bcba-f728149ea330"
      },
      "source": [
        "print(df2_y[df2_y==1].shape, df2_y[df2_y==0].shape)"
      ],
      "execution_count": null,
      "outputs": [
        {
          "output_type": "stream",
          "name": "stdout",
          "text": [
            "(920,) (3968,)\n"
          ]
        }
      ]
    },
    {
      "cell_type": "code",
      "metadata": {
        "colab": {
          "base_uri": "https://localhost:8080/"
        },
        "id": "xp3pf_rPIhLp",
        "outputId": "5c6d2cbd-b334-4854-e51e-888b6b0f2457"
      },
      "source": [
        "num_features_2 = ['Age', 'DurationOfPitch', 'MonthlyIncome']\n",
        "cat_features_2 = [list(df2_X.columns).index(i) for i in df2_X.columns if i not in num_features_2]\n",
        "cat_features_2"
      ],
      "execution_count": null,
      "outputs": [
        {
          "output_type": "execute_result",
          "data": {
            "text/plain": [
              "[1, 2, 4, 5, 6, 7, 8, 9, 10, 11, 12, 13, 14, 15, 16]"
            ]
          },
          "metadata": {},
          "execution_count": 13
        }
      ]
    },
    {
      "cell_type": "code",
      "metadata": {
        "id": "lLpVib1kIe_K"
      },
      "source": [
        "from imblearn.over_sampling import SMOTENC\n",
        "os = SMOTENC(categorical_features = cat_features_2, random_state = 42)\n",
        "\n",
        "X2, y2 = os.fit_sample(df2_X, df2_y)\n",
        "\n",
        "X2 = pd.DataFrame(data = X2, columns = df2_X.columns)\n",
        "y2 = pd.Series(y2, name = 'ProdTaken')"
      ],
      "execution_count": null,
      "outputs": []
    },
    {
      "cell_type": "code",
      "metadata": {
        "colab": {
          "base_uri": "https://localhost:8080/"
        },
        "id": "R6a8hy7vPUVa",
        "outputId": "1aa67871-544f-4a91-ca59-41b5a8ca1959"
      },
      "source": [
        "print(y2[y2==1].shape, y2[y2==0].shape)"
      ],
      "execution_count": null,
      "outputs": [
        {
          "output_type": "stream",
          "name": "stdout",
          "text": [
            "(3968,) (3968,)\n"
          ]
        }
      ]
    },
    {
      "cell_type": "code",
      "metadata": {
        "colab": {
          "base_uri": "https://localhost:8080/"
        },
        "id": "FiJx4zjBPuT4",
        "outputId": "c5bbb2f7-3ff8-4818-d496-9455c01b8618"
      },
      "source": [
        "print(X2[y2==1].shape, X2[y2==0].shape)"
      ],
      "execution_count": null,
      "outputs": [
        {
          "output_type": "stream",
          "name": "stdout",
          "text": [
            "(3968, 18) (3968, 18)\n"
          ]
        }
      ]
    },
    {
      "cell_type": "code",
      "metadata": {
        "colab": {
          "base_uri": "https://localhost:8080/",
          "height": 223
        },
        "id": "FX0ZG1yhclVP",
        "outputId": "656d5e52-4d75-4b82-f5b2-a72109e8de42"
      },
      "source": [
        "X2.head()"
      ],
      "execution_count": null,
      "outputs": [
        {
          "output_type": "execute_result",
          "data": {
            "text/html": [
              "<div>\n",
              "<style scoped>\n",
              "    .dataframe tbody tr th:only-of-type {\n",
              "        vertical-align: middle;\n",
              "    }\n",
              "\n",
              "    .dataframe tbody tr th {\n",
              "        vertical-align: top;\n",
              "    }\n",
              "\n",
              "    .dataframe thead th {\n",
              "        text-align: right;\n",
              "    }\n",
              "</style>\n",
              "<table border=\"1\" class=\"dataframe\">\n",
              "  <thead>\n",
              "    <tr style=\"text-align: right;\">\n",
              "      <th></th>\n",
              "      <th>Age</th>\n",
              "      <th>TypeofContact</th>\n",
              "      <th>CityTier</th>\n",
              "      <th>DurationOfPitch</th>\n",
              "      <th>Occupation</th>\n",
              "      <th>Gender</th>\n",
              "      <th>NumberOfPersonVisited</th>\n",
              "      <th>NumberOfFollowups</th>\n",
              "      <th>ProductPitched</th>\n",
              "      <th>PreferredPropertyStar</th>\n",
              "      <th>MaritalStatus</th>\n",
              "      <th>NumberOfTrips</th>\n",
              "      <th>Passport</th>\n",
              "      <th>PitchSatisfactionScore</th>\n",
              "      <th>OwnCar</th>\n",
              "      <th>NumberOfChildrenVisited</th>\n",
              "      <th>Designation</th>\n",
              "      <th>MonthlyIncome</th>\n",
              "    </tr>\n",
              "  </thead>\n",
              "  <tbody>\n",
              "    <tr>\n",
              "      <th>0</th>\n",
              "      <td>41.000000</td>\n",
              "      <td>1.0</td>\n",
              "      <td>3.0</td>\n",
              "      <td>6.0</td>\n",
              "      <td>2.0</td>\n",
              "      <td>0.0</td>\n",
              "      <td>3.0</td>\n",
              "      <td>3.0</td>\n",
              "      <td>1.0</td>\n",
              "      <td>3.0</td>\n",
              "      <td>2.0</td>\n",
              "      <td>1.0</td>\n",
              "      <td>1.0</td>\n",
              "      <td>2.0</td>\n",
              "      <td>1.0</td>\n",
              "      <td>0.0</td>\n",
              "      <td>2.0</td>\n",
              "      <td>20993.0</td>\n",
              "    </tr>\n",
              "    <tr>\n",
              "      <th>1</th>\n",
              "      <td>49.000000</td>\n",
              "      <td>0.0</td>\n",
              "      <td>1.0</td>\n",
              "      <td>14.0</td>\n",
              "      <td>2.0</td>\n",
              "      <td>1.0</td>\n",
              "      <td>3.0</td>\n",
              "      <td>4.0</td>\n",
              "      <td>1.0</td>\n",
              "      <td>4.0</td>\n",
              "      <td>0.0</td>\n",
              "      <td>2.0</td>\n",
              "      <td>0.0</td>\n",
              "      <td>3.0</td>\n",
              "      <td>1.0</td>\n",
              "      <td>2.0</td>\n",
              "      <td>2.0</td>\n",
              "      <td>20130.0</td>\n",
              "    </tr>\n",
              "    <tr>\n",
              "      <th>2</th>\n",
              "      <td>37.000000</td>\n",
              "      <td>1.0</td>\n",
              "      <td>1.0</td>\n",
              "      <td>8.0</td>\n",
              "      <td>0.0</td>\n",
              "      <td>1.0</td>\n",
              "      <td>3.0</td>\n",
              "      <td>4.0</td>\n",
              "      <td>0.0</td>\n",
              "      <td>3.0</td>\n",
              "      <td>2.0</td>\n",
              "      <td>7.0</td>\n",
              "      <td>1.0</td>\n",
              "      <td>3.0</td>\n",
              "      <td>0.0</td>\n",
              "      <td>0.0</td>\n",
              "      <td>1.0</td>\n",
              "      <td>17090.0</td>\n",
              "    </tr>\n",
              "    <tr>\n",
              "      <th>3</th>\n",
              "      <td>33.000000</td>\n",
              "      <td>0.0</td>\n",
              "      <td>1.0</td>\n",
              "      <td>9.0</td>\n",
              "      <td>2.0</td>\n",
              "      <td>0.0</td>\n",
              "      <td>2.0</td>\n",
              "      <td>3.0</td>\n",
              "      <td>0.0</td>\n",
              "      <td>3.0</td>\n",
              "      <td>0.0</td>\n",
              "      <td>2.0</td>\n",
              "      <td>1.0</td>\n",
              "      <td>5.0</td>\n",
              "      <td>1.0</td>\n",
              "      <td>1.0</td>\n",
              "      <td>1.0</td>\n",
              "      <td>17909.0</td>\n",
              "    </tr>\n",
              "    <tr>\n",
              "      <th>4</th>\n",
              "      <td>33.054181</td>\n",
              "      <td>1.0</td>\n",
              "      <td>1.0</td>\n",
              "      <td>8.0</td>\n",
              "      <td>3.0</td>\n",
              "      <td>1.0</td>\n",
              "      <td>2.0</td>\n",
              "      <td>3.0</td>\n",
              "      <td>0.0</td>\n",
              "      <td>4.0</td>\n",
              "      <td>0.0</td>\n",
              "      <td>1.0</td>\n",
              "      <td>0.0</td>\n",
              "      <td>5.0</td>\n",
              "      <td>1.0</td>\n",
              "      <td>0.0</td>\n",
              "      <td>1.0</td>\n",
              "      <td>18468.0</td>\n",
              "    </tr>\n",
              "  </tbody>\n",
              "</table>\n",
              "</div>"
            ],
            "text/plain": [
              "         Age  TypeofContact  ...  Designation  MonthlyIncome\n",
              "0  41.000000            1.0  ...          2.0        20993.0\n",
              "1  49.000000            0.0  ...          2.0        20130.0\n",
              "2  37.000000            1.0  ...          1.0        17090.0\n",
              "3  33.000000            0.0  ...          1.0        17909.0\n",
              "4  33.054181            1.0  ...          1.0        18468.0\n",
              "\n",
              "[5 rows x 18 columns]"
            ]
          },
          "metadata": {},
          "execution_count": 18
        }
      ]
    },
    {
      "cell_type": "code",
      "metadata": {
        "colab": {
          "base_uri": "https://localhost:8080/"
        },
        "id": "0mMHTd3sLAQz",
        "outputId": "df98b5fc-a974-441b-de7e-4b73cf05285d"
      },
      "source": [
        "# applying CatBoost Classifier\n",
        "from catboost import CatBoostClassifier\n",
        "from sklearn.model_selection import RandomizedSearchCV\n",
        "\n",
        "params = {'depth':[5,6,7,8,9,10],\n",
        "            'iterations':[300,400,500,600,700],\n",
        "            'learning_rate':[0.01, 0.05, 0.1, 0.2, 0.5]}\n",
        "\n",
        "cb_cl = RandomizedSearchCV(CatBoostClassifier(), param_distributions= params, scoring = 'recall', n_iter=100, cv = 5, n_jobs = -1, verbose = 2)\n",
        "\n",
        "cb_cl.fit(X2, y2)"
      ],
      "execution_count": null,
      "outputs": [
        {
          "output_type": "stream",
          "name": "stdout",
          "text": [
            "Fitting 5 folds for each of 100 candidates, totalling 500 fits\n"
          ]
        },
        {
          "output_type": "stream",
          "name": "stderr",
          "text": [
            "[Parallel(n_jobs=-1)]: Using backend LokyBackend with 2 concurrent workers.\n",
            "[Parallel(n_jobs=-1)]: Done  37 tasks      | elapsed:  2.9min\n",
            "/usr/local/lib/python3.7/dist-packages/joblib/externals/loky/process_executor.py:691: UserWarning: A worker stopped while some jobs were given to the executor. This can be caused by a too short worker timeout or by a memory leak.\n",
            "  \"timeout or by a memory leak.\", UserWarning\n",
            "[Parallel(n_jobs=-1)]: Done 158 tasks      | elapsed: 11.5min\n",
            "[Parallel(n_jobs=-1)]: Done 361 tasks      | elapsed: 26.7min\n",
            "[Parallel(n_jobs=-1)]: Done 500 out of 500 | elapsed: 35.6min finished\n"
          ]
        },
        {
          "output_type": "stream",
          "name": "stdout",
          "text": [
            "0:\tlearn: 0.6352768\ttotal: 60.1ms\tremaining: 42s\n",
            "1:\tlearn: 0.5840919\ttotal: 70.3ms\tremaining: 24.5s\n",
            "2:\tlearn: 0.5507388\ttotal: 79.6ms\tremaining: 18.5s\n",
            "3:\tlearn: 0.5184297\ttotal: 89.1ms\tremaining: 15.5s\n",
            "4:\tlearn: 0.4892403\ttotal: 98.3ms\tremaining: 13.7s\n",
            "5:\tlearn: 0.4617897\ttotal: 108ms\tremaining: 12.5s\n",
            "6:\tlearn: 0.4404389\ttotal: 117ms\tremaining: 11.6s\n",
            "7:\tlearn: 0.4277782\ttotal: 126ms\tremaining: 10.9s\n",
            "8:\tlearn: 0.4133253\ttotal: 135ms\tremaining: 10.4s\n",
            "9:\tlearn: 0.4003412\ttotal: 146ms\tremaining: 10s\n",
            "10:\tlearn: 0.3878669\ttotal: 155ms\tremaining: 9.73s\n",
            "11:\tlearn: 0.3728922\ttotal: 164ms\tremaining: 9.43s\n",
            "12:\tlearn: 0.3610323\ttotal: 174ms\tremaining: 9.19s\n",
            "13:\tlearn: 0.3542866\ttotal: 189ms\tremaining: 9.27s\n",
            "14:\tlearn: 0.3477298\ttotal: 201ms\tremaining: 9.17s\n",
            "15:\tlearn: 0.3411382\ttotal: 210ms\tremaining: 9s\n",
            "16:\tlearn: 0.3349948\ttotal: 220ms\tremaining: 8.83s\n",
            "17:\tlearn: 0.3302685\ttotal: 229ms\tremaining: 8.68s\n",
            "18:\tlearn: 0.3250136\ttotal: 239ms\tremaining: 8.56s\n",
            "19:\tlearn: 0.3190595\ttotal: 248ms\tremaining: 8.44s\n",
            "20:\tlearn: 0.3117005\ttotal: 259ms\tremaining: 8.36s\n",
            "21:\tlearn: 0.3060380\ttotal: 271ms\tremaining: 8.34s\n",
            "22:\tlearn: 0.3005859\ttotal: 280ms\tremaining: 8.25s\n",
            "23:\tlearn: 0.2954022\ttotal: 290ms\tremaining: 8.16s\n",
            "24:\tlearn: 0.2919911\ttotal: 300ms\tremaining: 8.09s\n",
            "25:\tlearn: 0.2866116\ttotal: 309ms\tremaining: 8.01s\n",
            "26:\tlearn: 0.2839554\ttotal: 318ms\tremaining: 7.93s\n",
            "27:\tlearn: 0.2803362\ttotal: 327ms\tremaining: 7.86s\n",
            "28:\tlearn: 0.2769318\ttotal: 337ms\tremaining: 7.79s\n",
            "29:\tlearn: 0.2748822\ttotal: 346ms\tremaining: 7.73s\n",
            "30:\tlearn: 0.2698312\ttotal: 356ms\tremaining: 7.68s\n",
            "31:\tlearn: 0.2663830\ttotal: 366ms\tremaining: 7.65s\n",
            "32:\tlearn: 0.2617107\ttotal: 376ms\tremaining: 7.59s\n",
            "33:\tlearn: 0.2585311\ttotal: 385ms\tremaining: 7.53s\n",
            "34:\tlearn: 0.2546027\ttotal: 394ms\tremaining: 7.49s\n",
            "35:\tlearn: 0.2523661\ttotal: 405ms\tremaining: 7.47s\n",
            "36:\tlearn: 0.2502479\ttotal: 414ms\tremaining: 7.42s\n",
            "37:\tlearn: 0.2463356\ttotal: 424ms\tremaining: 7.38s\n",
            "38:\tlearn: 0.2425682\ttotal: 433ms\tremaining: 7.34s\n",
            "39:\tlearn: 0.2374196\ttotal: 442ms\tremaining: 7.3s\n",
            "40:\tlearn: 0.2340950\ttotal: 452ms\tremaining: 7.26s\n",
            "41:\tlearn: 0.2301088\ttotal: 465ms\tremaining: 7.29s\n",
            "42:\tlearn: 0.2278557\ttotal: 475ms\tremaining: 7.25s\n",
            "43:\tlearn: 0.2241813\ttotal: 484ms\tremaining: 7.22s\n",
            "44:\tlearn: 0.2202665\ttotal: 493ms\tremaining: 7.18s\n",
            "45:\tlearn: 0.2161895\ttotal: 503ms\tremaining: 7.15s\n",
            "46:\tlearn: 0.2138573\ttotal: 512ms\tremaining: 7.11s\n",
            "47:\tlearn: 0.2102323\ttotal: 521ms\tremaining: 7.08s\n",
            "48:\tlearn: 0.2081519\ttotal: 531ms\tremaining: 7.05s\n",
            "49:\tlearn: 0.2037713\ttotal: 540ms\tremaining: 7.02s\n",
            "50:\tlearn: 0.2008171\ttotal: 550ms\tremaining: 7s\n",
            "51:\tlearn: 0.1963854\ttotal: 560ms\tremaining: 6.97s\n",
            "52:\tlearn: 0.1941341\ttotal: 569ms\tremaining: 6.94s\n",
            "53:\tlearn: 0.1925774\ttotal: 578ms\tremaining: 6.92s\n",
            "54:\tlearn: 0.1910663\ttotal: 588ms\tremaining: 6.89s\n",
            "55:\tlearn: 0.1891829\ttotal: 598ms\tremaining: 6.88s\n",
            "56:\tlearn: 0.1875326\ttotal: 608ms\tremaining: 6.86s\n",
            "57:\tlearn: 0.1859362\ttotal: 618ms\tremaining: 6.83s\n",
            "58:\tlearn: 0.1830528\ttotal: 627ms\tremaining: 6.81s\n",
            "59:\tlearn: 0.1816908\ttotal: 637ms\tremaining: 6.79s\n",
            "60:\tlearn: 0.1784137\ttotal: 647ms\tremaining: 6.78s\n",
            "61:\tlearn: 0.1759374\ttotal: 657ms\tremaining: 6.76s\n",
            "62:\tlearn: 0.1737916\ttotal: 670ms\tremaining: 6.77s\n",
            "63:\tlearn: 0.1728389\ttotal: 680ms\tremaining: 6.76s\n",
            "64:\tlearn: 0.1714971\ttotal: 689ms\tremaining: 6.73s\n",
            "65:\tlearn: 0.1689928\ttotal: 699ms\tremaining: 6.71s\n",
            "66:\tlearn: 0.1668227\ttotal: 708ms\tremaining: 6.69s\n",
            "67:\tlearn: 0.1648597\ttotal: 717ms\tremaining: 6.67s\n",
            "68:\tlearn: 0.1638031\ttotal: 727ms\tremaining: 6.65s\n",
            "69:\tlearn: 0.1631841\ttotal: 736ms\tremaining: 6.62s\n",
            "70:\tlearn: 0.1608548\ttotal: 752ms\tremaining: 6.66s\n",
            "71:\tlearn: 0.1599048\ttotal: 766ms\tremaining: 6.68s\n",
            "72:\tlearn: 0.1580102\ttotal: 775ms\tremaining: 6.66s\n",
            "73:\tlearn: 0.1560465\ttotal: 784ms\tremaining: 6.64s\n",
            "74:\tlearn: 0.1547037\ttotal: 794ms\tremaining: 6.62s\n",
            "75:\tlearn: 0.1531490\ttotal: 803ms\tremaining: 6.59s\n",
            "76:\tlearn: 0.1505986\ttotal: 813ms\tremaining: 6.57s\n",
            "77:\tlearn: 0.1482733\ttotal: 822ms\tremaining: 6.55s\n",
            "78:\tlearn: 0.1471040\ttotal: 831ms\tremaining: 6.53s\n",
            "79:\tlearn: 0.1444512\ttotal: 840ms\tremaining: 6.51s\n",
            "80:\tlearn: 0.1426936\ttotal: 850ms\tremaining: 6.49s\n",
            "81:\tlearn: 0.1408583\ttotal: 859ms\tremaining: 6.47s\n",
            "82:\tlearn: 0.1392702\ttotal: 872ms\tremaining: 6.48s\n",
            "83:\tlearn: 0.1374567\ttotal: 882ms\tremaining: 6.47s\n",
            "84:\tlearn: 0.1365193\ttotal: 891ms\tremaining: 6.45s\n",
            "85:\tlearn: 0.1356145\ttotal: 900ms\tremaining: 6.43s\n",
            "86:\tlearn: 0.1343389\ttotal: 910ms\tremaining: 6.41s\n",
            "87:\tlearn: 0.1332042\ttotal: 920ms\tremaining: 6.39s\n",
            "88:\tlearn: 0.1318046\ttotal: 929ms\tremaining: 6.38s\n",
            "89:\tlearn: 0.1309961\ttotal: 939ms\tremaining: 6.36s\n",
            "90:\tlearn: 0.1303680\ttotal: 948ms\tremaining: 6.35s\n",
            "91:\tlearn: 0.1285439\ttotal: 958ms\tremaining: 6.33s\n",
            "92:\tlearn: 0.1273126\ttotal: 967ms\tremaining: 6.31s\n",
            "93:\tlearn: 0.1252886\ttotal: 976ms\tremaining: 6.29s\n",
            "94:\tlearn: 0.1242938\ttotal: 985ms\tremaining: 6.28s\n",
            "95:\tlearn: 0.1232818\ttotal: 995ms\tremaining: 6.26s\n",
            "96:\tlearn: 0.1219744\ttotal: 1s\tremaining: 6.24s\n",
            "97:\tlearn: 0.1211581\ttotal: 1.01s\tremaining: 6.23s\n",
            "98:\tlearn: 0.1197833\ttotal: 1.02s\tremaining: 6.22s\n",
            "99:\tlearn: 0.1186062\ttotal: 1.03s\tremaining: 6.21s\n",
            "100:\tlearn: 0.1174357\ttotal: 1.04s\tremaining: 6.19s\n",
            "101:\tlearn: 0.1154150\ttotal: 1.05s\tremaining: 6.18s\n",
            "102:\tlearn: 0.1139332\ttotal: 1.06s\tremaining: 6.16s\n",
            "103:\tlearn: 0.1131627\ttotal: 1.08s\tremaining: 6.17s\n",
            "104:\tlearn: 0.1124859\ttotal: 1.08s\tremaining: 6.15s\n",
            "105:\tlearn: 0.1118109\ttotal: 1.09s\tremaining: 6.14s\n",
            "106:\tlearn: 0.1109326\ttotal: 1.1s\tremaining: 6.12s\n",
            "107:\tlearn: 0.1102307\ttotal: 1.11s\tremaining: 6.11s\n",
            "108:\tlearn: 0.1089632\ttotal: 1.12s\tremaining: 6.1s\n",
            "109:\tlearn: 0.1082678\ttotal: 1.13s\tremaining: 6.08s\n",
            "110:\tlearn: 0.1073146\ttotal: 1.14s\tremaining: 6.07s\n",
            "111:\tlearn: 0.1067626\ttotal: 1.15s\tremaining: 6.05s\n",
            "112:\tlearn: 0.1058853\ttotal: 1.16s\tremaining: 6.04s\n",
            "113:\tlearn: 0.1048673\ttotal: 1.17s\tremaining: 6.02s\n",
            "114:\tlearn: 0.1038638\ttotal: 1.18s\tremaining: 6.01s\n",
            "115:\tlearn: 0.1028184\ttotal: 1.19s\tremaining: 5.99s\n",
            "116:\tlearn: 0.1015886\ttotal: 1.2s\tremaining: 5.98s\n",
            "117:\tlearn: 0.1005355\ttotal: 1.21s\tremaining: 5.97s\n",
            "118:\tlearn: 0.0998218\ttotal: 1.22s\tremaining: 5.96s\n",
            "119:\tlearn: 0.0990261\ttotal: 1.23s\tremaining: 5.95s\n",
            "120:\tlearn: 0.0981451\ttotal: 1.24s\tremaining: 5.95s\n",
            "121:\tlearn: 0.0967524\ttotal: 1.25s\tremaining: 5.94s\n",
            "122:\tlearn: 0.0959322\ttotal: 1.26s\tremaining: 5.93s\n",
            "123:\tlearn: 0.0954470\ttotal: 1.27s\tremaining: 5.92s\n",
            "124:\tlearn: 0.0949688\ttotal: 1.29s\tremaining: 5.92s\n",
            "125:\tlearn: 0.0940402\ttotal: 1.3s\tremaining: 5.91s\n",
            "126:\tlearn: 0.0929468\ttotal: 1.31s\tremaining: 5.89s\n",
            "127:\tlearn: 0.0925463\ttotal: 1.32s\tremaining: 5.88s\n",
            "128:\tlearn: 0.0918835\ttotal: 1.33s\tremaining: 5.87s\n",
            "129:\tlearn: 0.0911649\ttotal: 1.33s\tremaining: 5.86s\n",
            "130:\tlearn: 0.0905725\ttotal: 1.34s\tremaining: 5.84s\n",
            "131:\tlearn: 0.0898905\ttotal: 1.35s\tremaining: 5.83s\n",
            "132:\tlearn: 0.0891969\ttotal: 1.36s\tremaining: 5.82s\n",
            "133:\tlearn: 0.0886738\ttotal: 1.37s\tremaining: 5.8s\n",
            "134:\tlearn: 0.0880403\ttotal: 1.38s\tremaining: 5.79s\n",
            "135:\tlearn: 0.0875640\ttotal: 1.39s\tremaining: 5.77s\n",
            "136:\tlearn: 0.0869768\ttotal: 1.4s\tremaining: 5.76s\n",
            "137:\tlearn: 0.0861264\ttotal: 1.41s\tremaining: 5.75s\n",
            "138:\tlearn: 0.0854424\ttotal: 1.42s\tremaining: 5.74s\n",
            "139:\tlearn: 0.0849075\ttotal: 1.43s\tremaining: 5.72s\n",
            "140:\tlearn: 0.0842708\ttotal: 1.44s\tremaining: 5.71s\n",
            "141:\tlearn: 0.0836450\ttotal: 1.45s\tremaining: 5.7s\n",
            "142:\tlearn: 0.0829089\ttotal: 1.46s\tremaining: 5.68s\n",
            "143:\tlearn: 0.0821412\ttotal: 1.47s\tremaining: 5.67s\n",
            "144:\tlearn: 0.0817592\ttotal: 1.49s\tremaining: 5.69s\n",
            "145:\tlearn: 0.0812438\ttotal: 1.5s\tremaining: 5.68s\n",
            "146:\tlearn: 0.0807565\ttotal: 1.5s\tremaining: 5.66s\n",
            "147:\tlearn: 0.0804201\ttotal: 1.51s\tremaining: 5.65s\n",
            "148:\tlearn: 0.0796343\ttotal: 1.52s\tremaining: 5.64s\n",
            "149:\tlearn: 0.0788159\ttotal: 1.53s\tremaining: 5.62s\n",
            "150:\tlearn: 0.0781638\ttotal: 1.54s\tremaining: 5.61s\n",
            "151:\tlearn: 0.0775958\ttotal: 1.55s\tremaining: 5.6s\n",
            "152:\tlearn: 0.0771557\ttotal: 1.56s\tremaining: 5.58s\n",
            "153:\tlearn: 0.0764692\ttotal: 1.57s\tremaining: 5.57s\n",
            "154:\tlearn: 0.0758899\ttotal: 1.58s\tremaining: 5.56s\n",
            "155:\tlearn: 0.0752901\ttotal: 1.59s\tremaining: 5.54s\n",
            "156:\tlearn: 0.0747581\ttotal: 1.6s\tremaining: 5.53s\n",
            "157:\tlearn: 0.0739637\ttotal: 1.61s\tremaining: 5.52s\n",
            "158:\tlearn: 0.0733609\ttotal: 1.62s\tremaining: 5.5s\n",
            "159:\tlearn: 0.0727791\ttotal: 1.63s\tremaining: 5.49s\n",
            "160:\tlearn: 0.0722437\ttotal: 1.64s\tremaining: 5.48s\n",
            "161:\tlearn: 0.0715103\ttotal: 1.65s\tremaining: 5.47s\n",
            "162:\tlearn: 0.0708597\ttotal: 1.66s\tremaining: 5.46s\n",
            "163:\tlearn: 0.0705835\ttotal: 1.67s\tremaining: 5.44s\n",
            "164:\tlearn: 0.0702385\ttotal: 1.67s\tremaining: 5.43s\n",
            "165:\tlearn: 0.0697739\ttotal: 1.69s\tremaining: 5.42s\n",
            "166:\tlearn: 0.0693465\ttotal: 1.7s\tremaining: 5.41s\n",
            "167:\tlearn: 0.0687499\ttotal: 1.71s\tremaining: 5.4s\n",
            "168:\tlearn: 0.0681156\ttotal: 1.72s\tremaining: 5.39s\n",
            "169:\tlearn: 0.0676140\ttotal: 1.73s\tremaining: 5.38s\n",
            "170:\tlearn: 0.0670630\ttotal: 1.74s\tremaining: 5.39s\n",
            "171:\tlearn: 0.0667629\ttotal: 1.75s\tremaining: 5.38s\n",
            "172:\tlearn: 0.0662389\ttotal: 1.76s\tremaining: 5.37s\n",
            "173:\tlearn: 0.0659475\ttotal: 1.77s\tremaining: 5.35s\n",
            "174:\tlearn: 0.0656679\ttotal: 1.78s\tremaining: 5.34s\n",
            "175:\tlearn: 0.0653489\ttotal: 1.79s\tremaining: 5.33s\n",
            "176:\tlearn: 0.0647830\ttotal: 1.8s\tremaining: 5.31s\n",
            "177:\tlearn: 0.0641760\ttotal: 1.81s\tremaining: 5.3s\n",
            "178:\tlearn: 0.0634363\ttotal: 1.82s\tremaining: 5.29s\n",
            "179:\tlearn: 0.0630113\ttotal: 1.83s\tremaining: 5.28s\n",
            "180:\tlearn: 0.0624493\ttotal: 1.84s\tremaining: 5.26s\n",
            "181:\tlearn: 0.0618312\ttotal: 1.84s\tremaining: 5.25s\n",
            "182:\tlearn: 0.0614785\ttotal: 1.85s\tremaining: 5.24s\n",
            "183:\tlearn: 0.0611474\ttotal: 1.86s\tremaining: 5.23s\n",
            "184:\tlearn: 0.0604224\ttotal: 1.87s\tremaining: 5.22s\n",
            "185:\tlearn: 0.0599972\ttotal: 1.88s\tremaining: 5.2s\n",
            "186:\tlearn: 0.0596518\ttotal: 1.9s\tremaining: 5.2s\n",
            "187:\tlearn: 0.0592672\ttotal: 1.91s\tremaining: 5.19s\n",
            "188:\tlearn: 0.0588313\ttotal: 1.92s\tremaining: 5.19s\n",
            "189:\tlearn: 0.0580601\ttotal: 1.93s\tremaining: 5.17s\n",
            "190:\tlearn: 0.0577250\ttotal: 1.94s\tremaining: 5.16s\n",
            "191:\tlearn: 0.0573417\ttotal: 1.95s\tremaining: 5.15s\n",
            "192:\tlearn: 0.0571289\ttotal: 1.96s\tremaining: 5.14s\n",
            "193:\tlearn: 0.0569256\ttotal: 1.97s\tremaining: 5.13s\n",
            "194:\tlearn: 0.0565060\ttotal: 1.97s\tremaining: 5.11s\n",
            "195:\tlearn: 0.0562469\ttotal: 1.98s\tremaining: 5.1s\n",
            "196:\tlearn: 0.0555484\ttotal: 1.99s\tremaining: 5.09s\n",
            "197:\tlearn: 0.0552234\ttotal: 2s\tremaining: 5.08s\n",
            "198:\tlearn: 0.0547867\ttotal: 2.01s\tremaining: 5.07s\n",
            "199:\tlearn: 0.0543104\ttotal: 2.02s\tremaining: 5.05s\n",
            "200:\tlearn: 0.0540283\ttotal: 2.03s\tremaining: 5.04s\n",
            "201:\tlearn: 0.0537578\ttotal: 2.04s\tremaining: 5.03s\n",
            "202:\tlearn: 0.0531888\ttotal: 2.05s\tremaining: 5.02s\n",
            "203:\tlearn: 0.0528674\ttotal: 2.06s\tremaining: 5.01s\n",
            "204:\tlearn: 0.0525572\ttotal: 2.07s\tremaining: 5s\n",
            "205:\tlearn: 0.0522462\ttotal: 2.08s\tremaining: 4.98s\n",
            "206:\tlearn: 0.0519617\ttotal: 2.09s\tremaining: 4.97s\n",
            "207:\tlearn: 0.0516070\ttotal: 2.1s\tremaining: 4.97s\n",
            "208:\tlearn: 0.0513455\ttotal: 2.11s\tremaining: 4.96s\n",
            "209:\tlearn: 0.0511107\ttotal: 2.12s\tremaining: 4.95s\n",
            "210:\tlearn: 0.0506978\ttotal: 2.13s\tremaining: 4.94s\n",
            "211:\tlearn: 0.0504435\ttotal: 2.14s\tremaining: 4.93s\n",
            "212:\tlearn: 0.0501466\ttotal: 2.15s\tremaining: 4.92s\n",
            "213:\tlearn: 0.0497820\ttotal: 2.16s\tremaining: 4.91s\n",
            "214:\tlearn: 0.0492715\ttotal: 2.17s\tremaining: 4.89s\n",
            "215:\tlearn: 0.0490411\ttotal: 2.18s\tremaining: 4.88s\n",
            "216:\tlearn: 0.0488074\ttotal: 2.19s\tremaining: 4.87s\n",
            "217:\tlearn: 0.0484934\ttotal: 2.2s\tremaining: 4.86s\n",
            "218:\tlearn: 0.0482927\ttotal: 2.21s\tremaining: 4.84s\n",
            "219:\tlearn: 0.0479410\ttotal: 2.21s\tremaining: 4.83s\n",
            "220:\tlearn: 0.0478103\ttotal: 2.23s\tremaining: 4.82s\n",
            "221:\tlearn: 0.0470848\ttotal: 2.23s\tremaining: 4.81s\n",
            "222:\tlearn: 0.0469463\ttotal: 2.24s\tremaining: 4.8s\n",
            "223:\tlearn: 0.0465193\ttotal: 2.25s\tremaining: 4.79s\n",
            "224:\tlearn: 0.0462168\ttotal: 2.26s\tremaining: 4.78s\n",
            "225:\tlearn: 0.0460258\ttotal: 2.27s\tremaining: 4.76s\n",
            "226:\tlearn: 0.0457490\ttotal: 2.28s\tremaining: 4.75s\n",
            "227:\tlearn: 0.0454739\ttotal: 2.29s\tremaining: 4.74s\n",
            "228:\tlearn: 0.0452545\ttotal: 2.3s\tremaining: 4.73s\n",
            "229:\tlearn: 0.0449415\ttotal: 2.31s\tremaining: 4.73s\n",
            "230:\tlearn: 0.0447323\ttotal: 2.33s\tremaining: 4.72s\n",
            "231:\tlearn: 0.0445421\ttotal: 2.33s\tremaining: 4.71s\n",
            "232:\tlearn: 0.0443622\ttotal: 2.34s\tremaining: 4.7s\n",
            "233:\tlearn: 0.0439948\ttotal: 2.35s\tremaining: 4.69s\n",
            "234:\tlearn: 0.0437475\ttotal: 2.36s\tremaining: 4.68s\n",
            "235:\tlearn: 0.0432878\ttotal: 2.37s\tremaining: 4.67s\n",
            "236:\tlearn: 0.0428543\ttotal: 2.38s\tremaining: 4.65s\n",
            "237:\tlearn: 0.0426327\ttotal: 2.39s\tremaining: 4.64s\n",
            "238:\tlearn: 0.0422324\ttotal: 2.4s\tremaining: 4.63s\n",
            "239:\tlearn: 0.0420533\ttotal: 2.41s\tremaining: 4.63s\n",
            "240:\tlearn: 0.0417711\ttotal: 2.42s\tremaining: 4.62s\n",
            "241:\tlearn: 0.0415299\ttotal: 2.43s\tremaining: 4.61s\n",
            "242:\tlearn: 0.0411901\ttotal: 2.44s\tremaining: 4.59s\n",
            "243:\tlearn: 0.0409129\ttotal: 2.45s\tremaining: 4.58s\n",
            "244:\tlearn: 0.0407437\ttotal: 2.46s\tremaining: 4.57s\n",
            "245:\tlearn: 0.0405355\ttotal: 2.47s\tremaining: 4.56s\n",
            "246:\tlearn: 0.0402084\ttotal: 2.48s\tremaining: 4.55s\n",
            "247:\tlearn: 0.0401088\ttotal: 2.49s\tremaining: 4.54s\n",
            "248:\tlearn: 0.0398136\ttotal: 2.5s\tremaining: 4.53s\n",
            "249:\tlearn: 0.0394397\ttotal: 2.51s\tremaining: 4.52s\n",
            "250:\tlearn: 0.0393168\ttotal: 2.52s\tremaining: 4.51s\n",
            "251:\tlearn: 0.0390645\ttotal: 2.53s\tremaining: 4.5s\n",
            "252:\tlearn: 0.0388088\ttotal: 2.54s\tremaining: 4.49s\n",
            "253:\tlearn: 0.0384186\ttotal: 2.55s\tremaining: 4.48s\n",
            "254:\tlearn: 0.0382419\ttotal: 2.56s\tremaining: 4.47s\n",
            "255:\tlearn: 0.0381300\ttotal: 2.57s\tremaining: 4.46s\n",
            "256:\tlearn: 0.0379163\ttotal: 2.58s\tremaining: 4.45s\n",
            "257:\tlearn: 0.0377133\ttotal: 2.59s\tremaining: 4.43s\n",
            "258:\tlearn: 0.0375807\ttotal: 2.6s\tremaining: 4.42s\n",
            "259:\tlearn: 0.0371908\ttotal: 2.61s\tremaining: 4.41s\n",
            "260:\tlearn: 0.0367705\ttotal: 2.62s\tremaining: 4.4s\n",
            "261:\tlearn: 0.0365998\ttotal: 2.63s\tremaining: 4.39s\n",
            "262:\tlearn: 0.0364535\ttotal: 2.64s\tremaining: 4.38s\n",
            "263:\tlearn: 0.0363467\ttotal: 2.65s\tremaining: 4.37s\n",
            "264:\tlearn: 0.0362317\ttotal: 2.65s\tremaining: 4.36s\n",
            "265:\tlearn: 0.0360617\ttotal: 2.66s\tremaining: 4.35s\n",
            "266:\tlearn: 0.0359277\ttotal: 2.67s\tremaining: 4.34s\n",
            "267:\tlearn: 0.0357726\ttotal: 2.69s\tremaining: 4.34s\n",
            "268:\tlearn: 0.0355357\ttotal: 2.7s\tremaining: 4.33s\n",
            "269:\tlearn: 0.0351951\ttotal: 2.71s\tremaining: 4.32s\n",
            "270:\tlearn: 0.0349421\ttotal: 2.73s\tremaining: 4.32s\n",
            "271:\tlearn: 0.0344903\ttotal: 2.74s\tremaining: 4.31s\n",
            "272:\tlearn: 0.0343900\ttotal: 2.75s\tremaining: 4.3s\n",
            "273:\tlearn: 0.0342468\ttotal: 2.76s\tremaining: 4.29s\n",
            "274:\tlearn: 0.0341745\ttotal: 2.77s\tremaining: 4.28s\n",
            "275:\tlearn: 0.0337879\ttotal: 2.78s\tremaining: 4.26s\n",
            "276:\tlearn: 0.0335379\ttotal: 2.79s\tremaining: 4.25s\n",
            "277:\tlearn: 0.0333685\ttotal: 2.79s\tremaining: 4.24s\n",
            "278:\tlearn: 0.0331951\ttotal: 2.8s\tremaining: 4.23s\n",
            "279:\tlearn: 0.0329081\ttotal: 2.81s\tremaining: 4.22s\n",
            "280:\tlearn: 0.0327738\ttotal: 2.82s\tremaining: 4.21s\n",
            "281:\tlearn: 0.0326113\ttotal: 2.83s\tremaining: 4.2s\n",
            "282:\tlearn: 0.0324768\ttotal: 2.84s\tremaining: 4.19s\n",
            "283:\tlearn: 0.0322940\ttotal: 2.85s\tremaining: 4.18s\n",
            "284:\tlearn: 0.0319975\ttotal: 2.86s\tremaining: 4.17s\n",
            "285:\tlearn: 0.0318542\ttotal: 2.87s\tremaining: 4.15s\n",
            "286:\tlearn: 0.0315975\ttotal: 2.88s\tremaining: 4.14s\n",
            "287:\tlearn: 0.0314057\ttotal: 2.89s\tremaining: 4.13s\n",
            "288:\tlearn: 0.0312804\ttotal: 2.9s\tremaining: 4.12s\n",
            "289:\tlearn: 0.0311488\ttotal: 2.91s\tremaining: 4.11s\n",
            "290:\tlearn: 0.0309464\ttotal: 2.92s\tremaining: 4.11s\n",
            "291:\tlearn: 0.0305785\ttotal: 2.93s\tremaining: 4.09s\n",
            "292:\tlearn: 0.0304884\ttotal: 2.94s\tremaining: 4.08s\n",
            "293:\tlearn: 0.0302046\ttotal: 2.95s\tremaining: 4.07s\n",
            "294:\tlearn: 0.0300059\ttotal: 2.96s\tremaining: 4.06s\n",
            "295:\tlearn: 0.0298758\ttotal: 2.97s\tremaining: 4.05s\n",
            "296:\tlearn: 0.0297432\ttotal: 2.98s\tremaining: 4.04s\n",
            "297:\tlearn: 0.0296036\ttotal: 2.99s\tremaining: 4.03s\n",
            "298:\tlearn: 0.0294478\ttotal: 3s\tremaining: 4.02s\n",
            "299:\tlearn: 0.0291725\ttotal: 3.01s\tremaining: 4.01s\n",
            "300:\tlearn: 0.0288014\ttotal: 3.02s\tremaining: 4s\n",
            "301:\tlearn: 0.0286731\ttotal: 3.02s\tremaining: 3.99s\n",
            "302:\tlearn: 0.0285803\ttotal: 3.03s\tremaining: 3.98s\n",
            "303:\tlearn: 0.0284423\ttotal: 3.04s\tremaining: 3.96s\n",
            "304:\tlearn: 0.0283221\ttotal: 3.05s\tremaining: 3.96s\n",
            "305:\tlearn: 0.0280739\ttotal: 3.06s\tremaining: 3.95s\n",
            "306:\tlearn: 0.0278889\ttotal: 3.07s\tremaining: 3.94s\n",
            "307:\tlearn: 0.0276610\ttotal: 3.08s\tremaining: 3.92s\n",
            "308:\tlearn: 0.0273732\ttotal: 3.1s\tremaining: 3.92s\n",
            "309:\tlearn: 0.0270797\ttotal: 3.11s\tremaining: 3.91s\n",
            "310:\tlearn: 0.0269478\ttotal: 3.12s\tremaining: 3.9s\n",
            "311:\tlearn: 0.0267771\ttotal: 3.13s\tremaining: 3.89s\n",
            "312:\tlearn: 0.0266200\ttotal: 3.14s\tremaining: 3.88s\n",
            "313:\tlearn: 0.0264783\ttotal: 3.15s\tremaining: 3.87s\n",
            "314:\tlearn: 0.0262742\ttotal: 3.16s\tremaining: 3.86s\n",
            "315:\tlearn: 0.0260930\ttotal: 3.17s\tremaining: 3.85s\n",
            "316:\tlearn: 0.0258068\ttotal: 3.18s\tremaining: 3.84s\n",
            "317:\tlearn: 0.0256583\ttotal: 3.19s\tremaining: 3.83s\n",
            "318:\tlearn: 0.0255224\ttotal: 3.2s\tremaining: 3.82s\n",
            "319:\tlearn: 0.0254085\ttotal: 3.21s\tremaining: 3.81s\n",
            "320:\tlearn: 0.0252277\ttotal: 3.22s\tremaining: 3.8s\n",
            "321:\tlearn: 0.0251243\ttotal: 3.23s\tremaining: 3.79s\n",
            "322:\tlearn: 0.0250436\ttotal: 3.23s\tremaining: 3.77s\n",
            "323:\tlearn: 0.0248957\ttotal: 3.24s\tremaining: 3.77s\n",
            "324:\tlearn: 0.0248384\ttotal: 3.25s\tremaining: 3.75s\n",
            "325:\tlearn: 0.0246388\ttotal: 3.26s\tremaining: 3.74s\n",
            "326:\tlearn: 0.0244971\ttotal: 3.27s\tremaining: 3.73s\n",
            "327:\tlearn: 0.0243658\ttotal: 3.29s\tremaining: 3.73s\n",
            "328:\tlearn: 0.0242524\ttotal: 3.29s\tremaining: 3.71s\n",
            "329:\tlearn: 0.0240953\ttotal: 3.3s\tremaining: 3.7s\n",
            "330:\tlearn: 0.0239674\ttotal: 3.31s\tremaining: 3.7s\n",
            "331:\tlearn: 0.0238595\ttotal: 3.33s\tremaining: 3.69s\n",
            "332:\tlearn: 0.0237502\ttotal: 3.34s\tremaining: 3.68s\n",
            "333:\tlearn: 0.0236138\ttotal: 3.35s\tremaining: 3.67s\n",
            "334:\tlearn: 0.0235243\ttotal: 3.35s\tremaining: 3.65s\n",
            "335:\tlearn: 0.0233807\ttotal: 3.36s\tremaining: 3.64s\n",
            "336:\tlearn: 0.0232675\ttotal: 3.37s\tremaining: 3.63s\n",
            "337:\tlearn: 0.0230047\ttotal: 3.38s\tremaining: 3.62s\n",
            "338:\tlearn: 0.0229313\ttotal: 3.39s\tremaining: 3.61s\n",
            "339:\tlearn: 0.0228086\ttotal: 3.4s\tremaining: 3.6s\n",
            "340:\tlearn: 0.0226683\ttotal: 3.41s\tremaining: 3.59s\n",
            "341:\tlearn: 0.0225821\ttotal: 3.42s\tremaining: 3.58s\n",
            "342:\tlearn: 0.0225037\ttotal: 3.43s\tremaining: 3.57s\n",
            "343:\tlearn: 0.0223855\ttotal: 3.44s\tremaining: 3.56s\n",
            "344:\tlearn: 0.0223324\ttotal: 3.45s\tremaining: 3.55s\n",
            "345:\tlearn: 0.0222365\ttotal: 3.46s\tremaining: 3.54s\n",
            "346:\tlearn: 0.0221309\ttotal: 3.47s\tremaining: 3.53s\n",
            "347:\tlearn: 0.0220274\ttotal: 3.48s\tremaining: 3.52s\n",
            "348:\tlearn: 0.0218604\ttotal: 3.49s\tremaining: 3.51s\n",
            "349:\tlearn: 0.0217801\ttotal: 3.5s\tremaining: 3.5s\n",
            "350:\tlearn: 0.0216824\ttotal: 3.5s\tremaining: 3.48s\n",
            "351:\tlearn: 0.0216213\ttotal: 3.52s\tremaining: 3.48s\n",
            "352:\tlearn: 0.0215514\ttotal: 3.53s\tremaining: 3.47s\n",
            "353:\tlearn: 0.0214558\ttotal: 3.54s\tremaining: 3.46s\n",
            "354:\tlearn: 0.0213479\ttotal: 3.55s\tremaining: 3.45s\n",
            "355:\tlearn: 0.0212149\ttotal: 3.56s\tremaining: 3.44s\n",
            "356:\tlearn: 0.0211021\ttotal: 3.57s\tremaining: 3.43s\n",
            "357:\tlearn: 0.0209883\ttotal: 3.58s\tremaining: 3.42s\n",
            "358:\tlearn: 0.0209386\ttotal: 3.59s\tremaining: 3.41s\n",
            "359:\tlearn: 0.0207250\ttotal: 3.6s\tremaining: 3.4s\n",
            "360:\tlearn: 0.0206677\ttotal: 3.61s\tremaining: 3.39s\n",
            "361:\tlearn: 0.0205977\ttotal: 3.62s\tremaining: 3.38s\n",
            "362:\tlearn: 0.0204281\ttotal: 3.63s\tremaining: 3.37s\n",
            "363:\tlearn: 0.0203370\ttotal: 3.63s\tremaining: 3.35s\n",
            "364:\tlearn: 0.0202074\ttotal: 3.64s\tremaining: 3.34s\n",
            "365:\tlearn: 0.0201498\ttotal: 3.65s\tremaining: 3.34s\n",
            "366:\tlearn: 0.0200138\ttotal: 3.67s\tremaining: 3.33s\n",
            "367:\tlearn: 0.0199446\ttotal: 3.67s\tremaining: 3.31s\n",
            "368:\tlearn: 0.0198948\ttotal: 3.68s\tremaining: 3.3s\n",
            "369:\tlearn: 0.0197864\ttotal: 3.69s\tremaining: 3.29s\n",
            "370:\tlearn: 0.0197169\ttotal: 3.71s\tremaining: 3.29s\n",
            "371:\tlearn: 0.0195780\ttotal: 3.72s\tremaining: 3.28s\n",
            "372:\tlearn: 0.0195183\ttotal: 3.73s\tremaining: 3.27s\n",
            "373:\tlearn: 0.0194546\ttotal: 3.74s\tremaining: 3.26s\n",
            "374:\tlearn: 0.0193868\ttotal: 3.75s\tremaining: 3.25s\n",
            "375:\tlearn: 0.0193339\ttotal: 3.76s\tremaining: 3.24s\n",
            "376:\tlearn: 0.0192680\ttotal: 3.77s\tremaining: 3.23s\n",
            "377:\tlearn: 0.0191870\ttotal: 3.78s\tremaining: 3.22s\n",
            "378:\tlearn: 0.0191023\ttotal: 3.79s\tremaining: 3.21s\n",
            "379:\tlearn: 0.0189551\ttotal: 3.8s\tremaining: 3.2s\n",
            "380:\tlearn: 0.0188692\ttotal: 3.81s\tremaining: 3.19s\n",
            "381:\tlearn: 0.0188035\ttotal: 3.81s\tremaining: 3.17s\n",
            "382:\tlearn: 0.0186843\ttotal: 3.82s\tremaining: 3.17s\n",
            "383:\tlearn: 0.0186096\ttotal: 3.83s\tremaining: 3.15s\n",
            "384:\tlearn: 0.0185443\ttotal: 3.84s\tremaining: 3.14s\n",
            "385:\tlearn: 0.0184324\ttotal: 3.85s\tremaining: 3.13s\n",
            "386:\tlearn: 0.0183845\ttotal: 3.86s\tremaining: 3.12s\n",
            "387:\tlearn: 0.0182469\ttotal: 3.87s\tremaining: 3.11s\n",
            "388:\tlearn: 0.0181835\ttotal: 3.88s\tremaining: 3.1s\n",
            "389:\tlearn: 0.0180997\ttotal: 3.89s\tremaining: 3.09s\n",
            "390:\tlearn: 0.0180455\ttotal: 3.9s\tremaining: 3.08s\n",
            "391:\tlearn: 0.0179617\ttotal: 3.91s\tremaining: 3.07s\n",
            "392:\tlearn: 0.0178277\ttotal: 3.92s\tremaining: 3.07s\n",
            "393:\tlearn: 0.0177554\ttotal: 3.94s\tremaining: 3.06s\n",
            "394:\tlearn: 0.0176636\ttotal: 3.95s\tremaining: 3.05s\n",
            "395:\tlearn: 0.0176016\ttotal: 3.96s\tremaining: 3.04s\n",
            "396:\tlearn: 0.0175096\ttotal: 3.96s\tremaining: 3.03s\n",
            "397:\tlearn: 0.0174262\ttotal: 3.98s\tremaining: 3.02s\n",
            "398:\tlearn: 0.0173620\ttotal: 3.98s\tremaining: 3.01s\n",
            "399:\tlearn: 0.0172667\ttotal: 3.99s\tremaining: 3s\n",
            "400:\tlearn: 0.0172075\ttotal: 4s\tremaining: 2.98s\n",
            "401:\tlearn: 0.0171032\ttotal: 4.01s\tremaining: 2.98s\n",
            "402:\tlearn: 0.0170236\ttotal: 4.02s\tremaining: 2.96s\n",
            "403:\tlearn: 0.0168903\ttotal: 4.03s\tremaining: 2.96s\n",
            "404:\tlearn: 0.0167896\ttotal: 4.04s\tremaining: 2.95s\n",
            "405:\tlearn: 0.0167504\ttotal: 4.05s\tremaining: 2.94s\n",
            "406:\tlearn: 0.0166962\ttotal: 4.06s\tremaining: 2.92s\n",
            "407:\tlearn: 0.0166528\ttotal: 4.07s\tremaining: 2.91s\n",
            "408:\tlearn: 0.0165878\ttotal: 4.08s\tremaining: 2.9s\n",
            "409:\tlearn: 0.0165396\ttotal: 4.09s\tremaining: 2.89s\n",
            "410:\tlearn: 0.0164832\ttotal: 4.1s\tremaining: 2.88s\n",
            "411:\tlearn: 0.0163906\ttotal: 4.11s\tremaining: 2.87s\n",
            "412:\tlearn: 0.0163450\ttotal: 4.12s\tremaining: 2.86s\n",
            "413:\tlearn: 0.0162948\ttotal: 4.13s\tremaining: 2.85s\n",
            "414:\tlearn: 0.0162643\ttotal: 4.14s\tremaining: 2.85s\n",
            "415:\tlearn: 0.0161590\ttotal: 4.16s\tremaining: 2.84s\n",
            "416:\tlearn: 0.0160974\ttotal: 4.17s\tremaining: 2.83s\n",
            "417:\tlearn: 0.0159909\ttotal: 4.18s\tremaining: 2.82s\n",
            "418:\tlearn: 0.0158881\ttotal: 4.19s\tremaining: 2.81s\n",
            "419:\tlearn: 0.0157552\ttotal: 4.2s\tremaining: 2.8s\n",
            "420:\tlearn: 0.0156699\ttotal: 4.21s\tremaining: 2.79s\n",
            "421:\tlearn: 0.0155682\ttotal: 4.21s\tremaining: 2.78s\n",
            "422:\tlearn: 0.0154614\ttotal: 4.22s\tremaining: 2.77s\n",
            "423:\tlearn: 0.0153162\ttotal: 4.23s\tremaining: 2.75s\n",
            "424:\tlearn: 0.0152698\ttotal: 4.24s\tremaining: 2.75s\n",
            "425:\tlearn: 0.0152292\ttotal: 4.25s\tremaining: 2.73s\n",
            "426:\tlearn: 0.0151737\ttotal: 4.26s\tremaining: 2.72s\n",
            "427:\tlearn: 0.0151001\ttotal: 4.27s\tremaining: 2.71s\n",
            "428:\tlearn: 0.0150474\ttotal: 4.28s\tremaining: 2.7s\n",
            "429:\tlearn: 0.0149050\ttotal: 4.29s\tremaining: 2.69s\n",
            "430:\tlearn: 0.0148471\ttotal: 4.3s\tremaining: 2.68s\n",
            "431:\tlearn: 0.0148082\ttotal: 4.31s\tremaining: 2.67s\n",
            "432:\tlearn: 0.0147580\ttotal: 4.32s\tremaining: 2.66s\n",
            "433:\tlearn: 0.0146827\ttotal: 4.33s\tremaining: 2.65s\n",
            "434:\tlearn: 0.0146151\ttotal: 4.34s\tremaining: 2.65s\n",
            "435:\tlearn: 0.0145766\ttotal: 4.35s\tremaining: 2.64s\n",
            "436:\tlearn: 0.0145389\ttotal: 4.36s\tremaining: 2.63s\n",
            "437:\tlearn: 0.0144328\ttotal: 4.37s\tremaining: 2.62s\n",
            "438:\tlearn: 0.0143886\ttotal: 4.38s\tremaining: 2.6s\n",
            "439:\tlearn: 0.0143401\ttotal: 4.39s\tremaining: 2.6s\n",
            "440:\tlearn: 0.0143040\ttotal: 4.4s\tremaining: 2.58s\n",
            "441:\tlearn: 0.0142723\ttotal: 4.41s\tremaining: 2.57s\n",
            "442:\tlearn: 0.0142304\ttotal: 4.42s\tremaining: 2.56s\n",
            "443:\tlearn: 0.0141922\ttotal: 4.43s\tremaining: 2.55s\n",
            "444:\tlearn: 0.0141269\ttotal: 4.44s\tremaining: 2.54s\n",
            "445:\tlearn: 0.0140734\ttotal: 4.45s\tremaining: 2.53s\n",
            "446:\tlearn: 0.0140299\ttotal: 4.46s\tremaining: 2.52s\n",
            "447:\tlearn: 0.0139582\ttotal: 4.47s\tremaining: 2.51s\n",
            "448:\tlearn: 0.0139206\ttotal: 4.47s\tremaining: 2.5s\n",
            "449:\tlearn: 0.0138782\ttotal: 4.48s\tremaining: 2.49s\n",
            "450:\tlearn: 0.0137950\ttotal: 4.49s\tremaining: 2.48s\n",
            "451:\tlearn: 0.0137451\ttotal: 4.5s\tremaining: 2.47s\n",
            "452:\tlearn: 0.0137066\ttotal: 4.51s\tremaining: 2.46s\n",
            "453:\tlearn: 0.0136725\ttotal: 4.52s\tremaining: 2.45s\n",
            "454:\tlearn: 0.0136322\ttotal: 4.53s\tremaining: 2.44s\n",
            "455:\tlearn: 0.0135567\ttotal: 4.54s\tremaining: 2.43s\n",
            "456:\tlearn: 0.0135208\ttotal: 4.55s\tremaining: 2.42s\n",
            "457:\tlearn: 0.0134940\ttotal: 4.56s\tremaining: 2.41s\n",
            "458:\tlearn: 0.0134438\ttotal: 4.57s\tremaining: 2.4s\n",
            "459:\tlearn: 0.0134207\ttotal: 4.58s\tremaining: 2.39s\n",
            "460:\tlearn: 0.0133622\ttotal: 4.59s\tremaining: 2.38s\n",
            "461:\tlearn: 0.0132672\ttotal: 4.6s\tremaining: 2.37s\n",
            "462:\tlearn: 0.0132230\ttotal: 4.61s\tremaining: 2.36s\n",
            "463:\tlearn: 0.0131983\ttotal: 4.62s\tremaining: 2.35s\n",
            "464:\tlearn: 0.0131544\ttotal: 4.63s\tremaining: 2.34s\n",
            "465:\tlearn: 0.0131252\ttotal: 4.64s\tremaining: 2.33s\n",
            "466:\tlearn: 0.0130867\ttotal: 4.65s\tremaining: 2.32s\n",
            "467:\tlearn: 0.0130146\ttotal: 4.66s\tremaining: 2.31s\n",
            "468:\tlearn: 0.0129785\ttotal: 4.67s\tremaining: 2.3s\n",
            "469:\tlearn: 0.0129423\ttotal: 4.68s\tremaining: 2.29s\n",
            "470:\tlearn: 0.0129071\ttotal: 4.69s\tremaining: 2.28s\n",
            "471:\tlearn: 0.0128623\ttotal: 4.7s\tremaining: 2.27s\n",
            "472:\tlearn: 0.0128248\ttotal: 4.71s\tremaining: 2.26s\n",
            "473:\tlearn: 0.0127871\ttotal: 4.72s\tremaining: 2.25s\n",
            "474:\tlearn: 0.0127531\ttotal: 4.73s\tremaining: 2.24s\n",
            "475:\tlearn: 0.0127195\ttotal: 4.74s\tremaining: 2.23s\n",
            "476:\tlearn: 0.0126851\ttotal: 4.75s\tremaining: 2.22s\n",
            "477:\tlearn: 0.0126613\ttotal: 4.76s\tremaining: 2.21s\n",
            "478:\tlearn: 0.0126265\ttotal: 4.77s\tremaining: 2.2s\n",
            "479:\tlearn: 0.0125704\ttotal: 4.78s\tremaining: 2.19s\n",
            "480:\tlearn: 0.0125461\ttotal: 4.79s\tremaining: 2.18s\n",
            "481:\tlearn: 0.0125187\ttotal: 4.8s\tremaining: 2.17s\n",
            "482:\tlearn: 0.0124705\ttotal: 4.81s\tremaining: 2.16s\n",
            "483:\tlearn: 0.0124396\ttotal: 4.82s\tremaining: 2.15s\n",
            "484:\tlearn: 0.0123778\ttotal: 4.83s\tremaining: 2.14s\n",
            "485:\tlearn: 0.0123424\ttotal: 4.84s\tremaining: 2.13s\n",
            "486:\tlearn: 0.0123133\ttotal: 4.85s\tremaining: 2.12s\n",
            "487:\tlearn: 0.0122661\ttotal: 4.86s\tremaining: 2.11s\n",
            "488:\tlearn: 0.0122188\ttotal: 4.87s\tremaining: 2.1s\n",
            "489:\tlearn: 0.0121849\ttotal: 4.88s\tremaining: 2.09s\n",
            "490:\tlearn: 0.0121498\ttotal: 4.89s\tremaining: 2.08s\n",
            "491:\tlearn: 0.0121087\ttotal: 4.9s\tremaining: 2.07s\n",
            "492:\tlearn: 0.0120522\ttotal: 4.91s\tremaining: 2.06s\n",
            "493:\tlearn: 0.0120194\ttotal: 4.92s\tremaining: 2.05s\n",
            "494:\tlearn: 0.0119722\ttotal: 4.93s\tremaining: 2.04s\n",
            "495:\tlearn: 0.0119447\ttotal: 4.94s\tremaining: 2.03s\n",
            "496:\tlearn: 0.0119043\ttotal: 4.95s\tremaining: 2.02s\n",
            "497:\tlearn: 0.0118789\ttotal: 4.96s\tremaining: 2.01s\n",
            "498:\tlearn: 0.0118562\ttotal: 4.97s\tremaining: 2s\n",
            "499:\tlearn: 0.0117984\ttotal: 4.98s\tremaining: 1.99s\n",
            "500:\tlearn: 0.0117612\ttotal: 4.99s\tremaining: 1.98s\n",
            "501:\tlearn: 0.0117240\ttotal: 5s\tremaining: 1.97s\n",
            "502:\tlearn: 0.0116832\ttotal: 5s\tremaining: 1.96s\n",
            "503:\tlearn: 0.0116362\ttotal: 5.02s\tremaining: 1.95s\n",
            "504:\tlearn: 0.0116019\ttotal: 5.03s\tremaining: 1.94s\n",
            "505:\tlearn: 0.0115620\ttotal: 5.03s\tremaining: 1.93s\n",
            "506:\tlearn: 0.0115222\ttotal: 5.04s\tremaining: 1.92s\n",
            "507:\tlearn: 0.0114849\ttotal: 5.05s\tremaining: 1.91s\n",
            "508:\tlearn: 0.0114388\ttotal: 5.06s\tremaining: 1.9s\n",
            "509:\tlearn: 0.0113860\ttotal: 5.07s\tremaining: 1.89s\n",
            "510:\tlearn: 0.0113443\ttotal: 5.08s\tremaining: 1.88s\n",
            "511:\tlearn: 0.0113147\ttotal: 5.09s\tremaining: 1.87s\n",
            "512:\tlearn: 0.0112898\ttotal: 5.1s\tremaining: 1.86s\n",
            "513:\tlearn: 0.0112484\ttotal: 5.11s\tremaining: 1.85s\n",
            "514:\tlearn: 0.0112117\ttotal: 5.12s\tremaining: 1.84s\n",
            "515:\tlearn: 0.0111579\ttotal: 5.13s\tremaining: 1.83s\n",
            "516:\tlearn: 0.0111170\ttotal: 5.14s\tremaining: 1.82s\n",
            "517:\tlearn: 0.0110829\ttotal: 5.15s\tremaining: 1.81s\n",
            "518:\tlearn: 0.0110530\ttotal: 5.16s\tremaining: 1.8s\n",
            "519:\tlearn: 0.0110015\ttotal: 5.17s\tremaining: 1.79s\n",
            "520:\tlearn: 0.0109713\ttotal: 5.18s\tremaining: 1.78s\n",
            "521:\tlearn: 0.0109445\ttotal: 5.19s\tremaining: 1.77s\n",
            "522:\tlearn: 0.0108963\ttotal: 5.2s\tremaining: 1.76s\n",
            "523:\tlearn: 0.0108693\ttotal: 5.21s\tremaining: 1.75s\n",
            "524:\tlearn: 0.0108344\ttotal: 5.22s\tremaining: 1.74s\n",
            "525:\tlearn: 0.0108098\ttotal: 5.23s\tremaining: 1.73s\n",
            "526:\tlearn: 0.0107804\ttotal: 5.24s\tremaining: 1.72s\n",
            "527:\tlearn: 0.0107508\ttotal: 5.24s\tremaining: 1.71s\n",
            "528:\tlearn: 0.0107310\ttotal: 5.25s\tremaining: 1.7s\n",
            "529:\tlearn: 0.0106892\ttotal: 5.26s\tremaining: 1.69s\n",
            "530:\tlearn: 0.0106389\ttotal: 5.28s\tremaining: 1.68s\n",
            "531:\tlearn: 0.0106002\ttotal: 5.29s\tremaining: 1.67s\n",
            "532:\tlearn: 0.0105543\ttotal: 5.3s\tremaining: 1.66s\n",
            "533:\tlearn: 0.0105201\ttotal: 5.31s\tremaining: 1.65s\n",
            "534:\tlearn: 0.0104801\ttotal: 5.32s\tremaining: 1.64s\n",
            "535:\tlearn: 0.0104416\ttotal: 5.33s\tremaining: 1.63s\n",
            "536:\tlearn: 0.0103992\ttotal: 5.34s\tremaining: 1.62s\n",
            "537:\tlearn: 0.0103646\ttotal: 5.35s\tremaining: 1.61s\n",
            "538:\tlearn: 0.0103192\ttotal: 5.36s\tremaining: 1.6s\n",
            "539:\tlearn: 0.0102897\ttotal: 5.37s\tremaining: 1.59s\n",
            "540:\tlearn: 0.0102690\ttotal: 5.38s\tremaining: 1.58s\n",
            "541:\tlearn: 0.0102530\ttotal: 5.39s\tremaining: 1.57s\n",
            "542:\tlearn: 0.0102237\ttotal: 5.4s\tremaining: 1.56s\n",
            "543:\tlearn: 0.0101718\ttotal: 5.41s\tremaining: 1.55s\n",
            "544:\tlearn: 0.0101551\ttotal: 5.42s\tremaining: 1.54s\n",
            "545:\tlearn: 0.0101208\ttotal: 5.43s\tremaining: 1.53s\n",
            "546:\tlearn: 0.0101002\ttotal: 5.43s\tremaining: 1.52s\n",
            "547:\tlearn: 0.0100576\ttotal: 5.45s\tremaining: 1.51s\n",
            "548:\tlearn: 0.0100382\ttotal: 5.45s\tremaining: 1.5s\n",
            "549:\tlearn: 0.0100101\ttotal: 5.46s\tremaining: 1.49s\n",
            "550:\tlearn: 0.0099829\ttotal: 5.47s\tremaining: 1.48s\n",
            "551:\tlearn: 0.0099635\ttotal: 5.48s\tremaining: 1.47s\n",
            "552:\tlearn: 0.0099383\ttotal: 5.49s\tremaining: 1.46s\n",
            "553:\tlearn: 0.0099142\ttotal: 5.5s\tremaining: 1.45s\n",
            "554:\tlearn: 0.0098859\ttotal: 5.51s\tremaining: 1.44s\n",
            "555:\tlearn: 0.0098297\ttotal: 5.52s\tremaining: 1.43s\n",
            "556:\tlearn: 0.0097857\ttotal: 5.53s\tremaining: 1.42s\n",
            "557:\tlearn: 0.0097678\ttotal: 5.54s\tremaining: 1.41s\n",
            "558:\tlearn: 0.0097516\ttotal: 5.55s\tremaining: 1.4s\n",
            "559:\tlearn: 0.0097293\ttotal: 5.56s\tremaining: 1.39s\n",
            "560:\tlearn: 0.0097015\ttotal: 5.57s\tremaining: 1.38s\n",
            "561:\tlearn: 0.0096826\ttotal: 5.58s\tremaining: 1.37s\n",
            "562:\tlearn: 0.0096455\ttotal: 5.59s\tremaining: 1.36s\n",
            "563:\tlearn: 0.0096270\ttotal: 5.6s\tremaining: 1.35s\n",
            "564:\tlearn: 0.0096035\ttotal: 5.61s\tremaining: 1.34s\n",
            "565:\tlearn: 0.0095765\ttotal: 5.62s\tremaining: 1.33s\n",
            "566:\tlearn: 0.0095530\ttotal: 5.63s\tremaining: 1.32s\n",
            "567:\tlearn: 0.0095245\ttotal: 5.63s\tremaining: 1.31s\n",
            "568:\tlearn: 0.0095070\ttotal: 5.64s\tremaining: 1.3s\n",
            "569:\tlearn: 0.0094863\ttotal: 5.65s\tremaining: 1.29s\n",
            "570:\tlearn: 0.0094726\ttotal: 5.66s\tremaining: 1.28s\n",
            "571:\tlearn: 0.0094421\ttotal: 5.67s\tremaining: 1.27s\n",
            "572:\tlearn: 0.0094189\ttotal: 5.69s\tremaining: 1.26s\n",
            "573:\tlearn: 0.0093553\ttotal: 5.7s\tremaining: 1.25s\n",
            "574:\tlearn: 0.0093390\ttotal: 5.71s\tremaining: 1.24s\n",
            "575:\tlearn: 0.0093141\ttotal: 5.72s\tremaining: 1.23s\n",
            "576:\tlearn: 0.0092922\ttotal: 5.73s\tremaining: 1.22s\n",
            "577:\tlearn: 0.0092688\ttotal: 5.74s\tremaining: 1.21s\n",
            "578:\tlearn: 0.0092445\ttotal: 5.75s\tremaining: 1.2s\n",
            "579:\tlearn: 0.0092155\ttotal: 5.75s\tremaining: 1.19s\n",
            "580:\tlearn: 0.0091881\ttotal: 5.76s\tremaining: 1.18s\n",
            "581:\tlearn: 0.0091603\ttotal: 5.77s\tremaining: 1.17s\n",
            "582:\tlearn: 0.0091309\ttotal: 5.79s\tremaining: 1.16s\n",
            "583:\tlearn: 0.0091193\ttotal: 5.8s\tremaining: 1.15s\n",
            "584:\tlearn: 0.0091037\ttotal: 5.8s\tremaining: 1.14s\n",
            "585:\tlearn: 0.0090761\ttotal: 5.81s\tremaining: 1.13s\n",
            "586:\tlearn: 0.0090390\ttotal: 5.82s\tremaining: 1.12s\n",
            "587:\tlearn: 0.0090193\ttotal: 5.83s\tremaining: 1.11s\n",
            "588:\tlearn: 0.0090077\ttotal: 5.84s\tremaining: 1.1s\n",
            "589:\tlearn: 0.0089777\ttotal: 5.85s\tremaining: 1.09s\n",
            "590:\tlearn: 0.0089483\ttotal: 5.86s\tremaining: 1.08s\n",
            "591:\tlearn: 0.0089279\ttotal: 5.87s\tremaining: 1.07s\n",
            "592:\tlearn: 0.0088919\ttotal: 5.88s\tremaining: 1.06s\n",
            "593:\tlearn: 0.0088755\ttotal: 5.89s\tremaining: 1.05s\n",
            "594:\tlearn: 0.0088623\ttotal: 5.9s\tremaining: 1.04s\n",
            "595:\tlearn: 0.0088420\ttotal: 5.91s\tremaining: 1.03s\n",
            "596:\tlearn: 0.0088116\ttotal: 5.92s\tremaining: 1.02s\n",
            "597:\tlearn: 0.0087922\ttotal: 5.92s\tremaining: 1.01s\n",
            "598:\tlearn: 0.0087782\ttotal: 5.93s\tremaining: 1s\n",
            "599:\tlearn: 0.0087647\ttotal: 5.94s\tremaining: 991ms\n",
            "600:\tlearn: 0.0087470\ttotal: 5.95s\tremaining: 981ms\n",
            "601:\tlearn: 0.0087289\ttotal: 5.96s\tremaining: 970ms\n",
            "602:\tlearn: 0.0087136\ttotal: 5.97s\tremaining: 960ms\n",
            "603:\tlearn: 0.0086925\ttotal: 5.98s\tremaining: 950ms\n",
            "604:\tlearn: 0.0086748\ttotal: 6s\tremaining: 941ms\n",
            "605:\tlearn: 0.0086552\ttotal: 6s\tremaining: 931ms\n",
            "606:\tlearn: 0.0086334\ttotal: 6.01s\tremaining: 922ms\n",
            "607:\tlearn: 0.0085957\ttotal: 6.02s\tremaining: 911ms\n",
            "608:\tlearn: 0.0085794\ttotal: 6.03s\tremaining: 901ms\n",
            "609:\tlearn: 0.0085794\ttotal: 6.04s\tremaining: 891ms\n",
            "610:\tlearn: 0.0085654\ttotal: 6.05s\tremaining: 881ms\n",
            "611:\tlearn: 0.0085522\ttotal: 6.06s\tremaining: 871ms\n",
            "612:\tlearn: 0.0085246\ttotal: 6.07s\tremaining: 861ms\n",
            "613:\tlearn: 0.0085115\ttotal: 6.08s\tremaining: 851ms\n",
            "614:\tlearn: 0.0084886\ttotal: 6.09s\tremaining: 841ms\n",
            "615:\tlearn: 0.0084670\ttotal: 6.1s\tremaining: 831ms\n",
            "616:\tlearn: 0.0084384\ttotal: 6.11s\tremaining: 821ms\n",
            "617:\tlearn: 0.0083987\ttotal: 6.12s\tremaining: 812ms\n",
            "618:\tlearn: 0.0083709\ttotal: 6.13s\tremaining: 802ms\n",
            "619:\tlearn: 0.0083422\ttotal: 6.13s\tremaining: 792ms\n",
            "620:\tlearn: 0.0083284\ttotal: 6.14s\tremaining: 782ms\n",
            "621:\tlearn: 0.0082841\ttotal: 6.15s\tremaining: 772ms\n",
            "622:\tlearn: 0.0082576\ttotal: 6.16s\tremaining: 762ms\n",
            "623:\tlearn: 0.0082449\ttotal: 6.17s\tremaining: 752ms\n",
            "624:\tlearn: 0.0082121\ttotal: 6.18s\tremaining: 742ms\n",
            "625:\tlearn: 0.0081922\ttotal: 6.2s\tremaining: 733ms\n",
            "626:\tlearn: 0.0081689\ttotal: 6.21s\tremaining: 723ms\n",
            "627:\tlearn: 0.0081272\ttotal: 6.22s\tremaining: 713ms\n",
            "628:\tlearn: 0.0081103\ttotal: 6.23s\tremaining: 703ms\n",
            "629:\tlearn: 0.0080947\ttotal: 6.24s\tremaining: 693ms\n",
            "630:\tlearn: 0.0080947\ttotal: 6.25s\tremaining: 683ms\n",
            "631:\tlearn: 0.0080805\ttotal: 6.26s\tremaining: 673ms\n",
            "632:\tlearn: 0.0080528\ttotal: 6.27s\tremaining: 663ms\n",
            "633:\tlearn: 0.0080319\ttotal: 6.28s\tremaining: 653ms\n",
            "634:\tlearn: 0.0080244\ttotal: 6.29s\tremaining: 643ms\n",
            "635:\tlearn: 0.0080074\ttotal: 6.29s\tremaining: 634ms\n",
            "636:\tlearn: 0.0079664\ttotal: 6.3s\tremaining: 624ms\n",
            "637:\tlearn: 0.0079664\ttotal: 6.31s\tremaining: 614ms\n",
            "638:\tlearn: 0.0079664\ttotal: 6.32s\tremaining: 604ms\n",
            "639:\tlearn: 0.0079419\ttotal: 6.33s\tremaining: 594ms\n",
            "640:\tlearn: 0.0079419\ttotal: 6.34s\tremaining: 584ms\n",
            "641:\tlearn: 0.0079177\ttotal: 6.35s\tremaining: 574ms\n",
            "642:\tlearn: 0.0079017\ttotal: 6.36s\tremaining: 564ms\n",
            "643:\tlearn: 0.0078810\ttotal: 6.37s\tremaining: 554ms\n",
            "644:\tlearn: 0.0078612\ttotal: 6.38s\tremaining: 544ms\n",
            "645:\tlearn: 0.0078494\ttotal: 6.39s\tremaining: 534ms\n",
            "646:\tlearn: 0.0078242\ttotal: 6.4s\tremaining: 524ms\n",
            "647:\tlearn: 0.0078082\ttotal: 6.42s\tremaining: 515ms\n",
            "648:\tlearn: 0.0077809\ttotal: 6.43s\tremaining: 505ms\n",
            "649:\tlearn: 0.0077652\ttotal: 6.45s\tremaining: 496ms\n",
            "650:\tlearn: 0.0077278\ttotal: 6.45s\tremaining: 486ms\n",
            "651:\tlearn: 0.0077278\ttotal: 6.46s\tremaining: 476ms\n",
            "652:\tlearn: 0.0077130\ttotal: 6.47s\tremaining: 466ms\n",
            "653:\tlearn: 0.0077130\ttotal: 6.48s\tremaining: 456ms\n",
            "654:\tlearn: 0.0076960\ttotal: 6.49s\tremaining: 446ms\n",
            "655:\tlearn: 0.0076828\ttotal: 6.5s\tremaining: 436ms\n",
            "656:\tlearn: 0.0076570\ttotal: 6.51s\tremaining: 426ms\n",
            "657:\tlearn: 0.0076436\ttotal: 6.52s\tremaining: 416ms\n",
            "658:\tlearn: 0.0076324\ttotal: 6.53s\tremaining: 406ms\n",
            "659:\tlearn: 0.0076324\ttotal: 6.54s\tremaining: 396ms\n",
            "660:\tlearn: 0.0076323\ttotal: 6.55s\tremaining: 386ms\n",
            "661:\tlearn: 0.0076323\ttotal: 6.55s\tremaining: 376ms\n",
            "662:\tlearn: 0.0076206\ttotal: 6.56s\tremaining: 366ms\n",
            "663:\tlearn: 0.0076035\ttotal: 6.57s\tremaining: 356ms\n",
            "664:\tlearn: 0.0075931\ttotal: 6.59s\tremaining: 347ms\n",
            "665:\tlearn: 0.0075706\ttotal: 6.6s\tremaining: 337ms\n",
            "666:\tlearn: 0.0075450\ttotal: 6.62s\tremaining: 327ms\n",
            "667:\tlearn: 0.0075293\ttotal: 6.63s\tremaining: 317ms\n",
            "668:\tlearn: 0.0075091\ttotal: 6.64s\tremaining: 308ms\n",
            "669:\tlearn: 0.0074866\ttotal: 6.65s\tremaining: 298ms\n",
            "670:\tlearn: 0.0074696\ttotal: 6.66s\tremaining: 288ms\n",
            "671:\tlearn: 0.0074378\ttotal: 6.67s\tremaining: 278ms\n",
            "672:\tlearn: 0.0074218\ttotal: 6.69s\tremaining: 268ms\n",
            "673:\tlearn: 0.0074086\ttotal: 6.7s\tremaining: 258ms\n",
            "674:\tlearn: 0.0073815\ttotal: 6.71s\tremaining: 248ms\n",
            "675:\tlearn: 0.0073668\ttotal: 6.72s\tremaining: 239ms\n",
            "676:\tlearn: 0.0073410\ttotal: 6.73s\tremaining: 229ms\n",
            "677:\tlearn: 0.0073244\ttotal: 6.74s\tremaining: 219ms\n",
            "678:\tlearn: 0.0073078\ttotal: 6.75s\tremaining: 209ms\n",
            "679:\tlearn: 0.0072923\ttotal: 6.76s\tremaining: 199ms\n",
            "680:\tlearn: 0.0072684\ttotal: 6.77s\tremaining: 189ms\n",
            "681:\tlearn: 0.0072541\ttotal: 6.78s\tremaining: 179ms\n",
            "682:\tlearn: 0.0072541\ttotal: 6.78s\tremaining: 169ms\n",
            "683:\tlearn: 0.0072540\ttotal: 6.79s\tremaining: 159ms\n",
            "684:\tlearn: 0.0072316\ttotal: 6.81s\tremaining: 149ms\n",
            "685:\tlearn: 0.0072316\ttotal: 6.82s\tremaining: 139ms\n",
            "686:\tlearn: 0.0072109\ttotal: 6.83s\tremaining: 129ms\n",
            "687:\tlearn: 0.0072109\ttotal: 6.83s\tremaining: 119ms\n",
            "688:\tlearn: 0.0071976\ttotal: 6.84s\tremaining: 109ms\n",
            "689:\tlearn: 0.0071976\ttotal: 6.85s\tremaining: 99.3ms\n",
            "690:\tlearn: 0.0071726\ttotal: 6.86s\tremaining: 89.4ms\n",
            "691:\tlearn: 0.0071726\ttotal: 6.87s\tremaining: 79.4ms\n",
            "692:\tlearn: 0.0071726\ttotal: 6.88s\tremaining: 69.5ms\n",
            "693:\tlearn: 0.0071603\ttotal: 6.89s\tremaining: 59.6ms\n",
            "694:\tlearn: 0.0071477\ttotal: 6.9s\tremaining: 49.6ms\n",
            "695:\tlearn: 0.0071329\ttotal: 6.91s\tremaining: 39.7ms\n",
            "696:\tlearn: 0.0071114\ttotal: 6.92s\tremaining: 29.8ms\n",
            "697:\tlearn: 0.0071114\ttotal: 6.92s\tremaining: 19.8ms\n",
            "698:\tlearn: 0.0071114\ttotal: 6.93s\tremaining: 9.92ms\n",
            "699:\tlearn: 0.0070983\ttotal: 6.94s\tremaining: 0us\n"
          ]
        },
        {
          "output_type": "execute_result",
          "data": {
            "text/plain": [
              "RandomizedSearchCV(cv=5, error_score=nan,\n",
              "                   estimator=<catboost.core.CatBoostClassifier object at 0x7fda764a3350>,\n",
              "                   iid='deprecated', n_iter=100, n_jobs=-1,\n",
              "                   param_distributions={'depth': [5, 6, 7, 8, 9, 10],\n",
              "                                        'iterations': [300, 400, 500, 600, 700],\n",
              "                                        'learning_rate': [0.01, 0.05, 0.1, 0.2,\n",
              "                                                          0.5]},\n",
              "                   pre_dispatch='2*n_jobs', random_state=None, refit=True,\n",
              "                   return_train_score=False, scoring='recall', verbose=2)"
            ]
          },
          "metadata": {},
          "execution_count": 21
        }
      ]
    },
    {
      "cell_type": "code",
      "metadata": {
        "colab": {
          "base_uri": "https://localhost:8080/"
        },
        "id": "5W2DCWK1LGS3",
        "outputId": "3d02e9a0-9e29-4f4d-f9fc-9a4c85112ad4"
      },
      "source": [
        "print(\"Recall: \",cb_cl.best_score_)\n",
        "print(\"Best parameters: \",cb_cl.best_params_)"
      ],
      "execution_count": null,
      "outputs": [
        {
          "output_type": "stream",
          "name": "stdout",
          "text": [
            "Recall:  0.9135972505010784\n",
            "Best parameters:  {'learning_rate': 0.1, 'iterations': 700, 'depth': 9}\n"
          ]
        }
      ]
    },
    {
      "cell_type": "markdown",
      "metadata": {
        "id": "sAPpTJ9ZDxIw"
      },
      "source": [
        "After applying CatBoost Classifier we got 91.36% Recall."
      ]
    },
    {
      "cell_type": "markdown",
      "metadata": {
        "id": "sFyrAaFn2Qsu"
      },
      "source": [
        "# Best Model\n",
        "\n",
        "Till now we got highest recall of 93.65% for the K-nearest Neighbors Classifier.\n",
        "\n",
        "So we choose KNN Classifier to be the Best model for our data."
      ]
    },
    {
      "cell_type": "code",
      "metadata": {
        "id": "oNiEB00sdTSX"
      },
      "source": [
        "# dumping the knn model\n",
        "import pickle\n",
        "\n",
        "file = open('knn_model.pkl','wb')\n",
        "\n",
        "pickle.dump(knn_cl, file)"
      ],
      "execution_count": null,
      "outputs": []
    }
  ]
}